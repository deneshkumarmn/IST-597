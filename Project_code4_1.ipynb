{
  "cells": [
    {
      "cell_type": "code",
      "execution_count": 732,
      "metadata": {
        "id": "x8VWzEpY3pnZ"
      },
      "outputs": [],
      "source": [
        "import numpy as np\n",
        "import random\n",
        "from random import sample"
      ]
    },
    {
      "cell_type": "code",
      "source": [],
      "metadata": {
        "id": "AeUPk9BgTveP"
      },
      "execution_count": null,
      "outputs": []
    },
    {
      "cell_type": "code",
      "execution_count": 733,
      "metadata": {
        "id": "6EqdWEpj3pna"
      },
      "outputs": [],
      "source": [
        "#Generate preference list Men and Women \n",
        "def preference_list(gender,opp_gender,n):\n",
        "    opp_gender_list=[]\n",
        "    gender_list=[]\n",
        "    gender_match={}\n",
        "    for i in range(1,n+1):\n",
        "        opp_gender_list.append(opp_gender+'-'+str(i))\n",
        "        gender_list.append(gender+'-'+str(i))\n",
        "    for i in gender_list:\n",
        "        shuffle=random.sample(opp_gender_list,n)\n",
        "        gender_match[i]=shuffle\n",
        "    return gender_match\n",
        "\n"
      ]
    },
    {
      "cell_type": "code",
      "source": [],
      "metadata": {
        "id": "uLcF3UEIT6J0"
      },
      "execution_count": null,
      "outputs": []
    },
    {
      "cell_type": "code",
      "execution_count": 734,
      "metadata": {
        "id": "cBA4jrCs3pne"
      },
      "outputs": [],
      "source": [
        "#Finds the index of the partucular preference \n",
        "def index_finder(a,arr):\n",
        "    for i in range(len(arr)):\n",
        "        if arr[i]==a:\n",
        "            return i\n",
        "        else:\n",
        "            continue"
      ]
    },
    {
      "cell_type": "code",
      "source": [
        "#Finds the index of girls-1 match in women propose to men in womens preference\n",
        "def index_finder1(matches_women_to_men):\n",
        "  temp = []\n",
        "  temp.clear()\n",
        "  for i in boys_preference:\n",
        "    temp.append(i)\n",
        "  for i in range(len(temp)):\n",
        "    if(matches_women_to_men[temp[i]] == 'girl-1'):\n",
        "      paired = temp[i]\n",
        "    else:\n",
        "      continue\n",
        "  return(index_finder(paired,girls_preference['girl-1']))"
      ],
      "metadata": {
        "id": "vTNY-ktTy8LD"
      },
      "execution_count": 735,
      "outputs": []
    },
    {
      "cell_type": "code",
      "source": [
        "#Change preference of manipulating girl \n",
        "def change_preference(boys_preference,girls_preference):\n",
        "  temp = []\n",
        "  temp.clear()\n",
        "  for i in boys_preference:\n",
        "    temp.append(i)\n",
        "  girls_preference['girl-1'] = temp"
      ],
      "metadata": {
        "id": "QXAgNqdDc_G5"
      },
      "execution_count": 736,
      "outputs": []
    },
    {
      "cell_type": "code",
      "source": [
        " "
      ],
      "metadata": {
        "id": "oqQwILyD1RsC"
      },
      "execution_count": null,
      "outputs": []
    },
    {
      "cell_type": "code",
      "execution_count": 737,
      "metadata": {
        "id": "2XVNZlcK930V"
      },
      "outputs": [],
      "source": [
        "# Assign everyone is unmatched before the begining of algorithem \n",
        "def reset_match_status(boys_preference,girls_preference,boys_status,girls_status):\n",
        "  boys_status.clear()\n",
        "  girls_status.clear()\n",
        "  for i in boys_preference:\n",
        "    boys_status[i]='Unmatched'\n",
        "  for i in girls_preference:\n",
        "    girls_status[i]='Unmatched'"
      ]
    },
    {
      "cell_type": "code",
      "source": [],
      "metadata": {
        "id": "p09I-Ag4UFxW"
      },
      "execution_count": null,
      "outputs": []
    },
    {
      "cell_type": "code",
      "execution_count": 738,
      "metadata": {
        "id": "Q4NmAK4H3pne"
      },
      "outputs": [],
      "source": [
        "#Gale shapely algorithm implementation \n",
        "def gale_shapely(boys_preference,girls_preference,boys_status,girls_status,matches,girls_proposed1,girls_proposed2):\n",
        "  counter=0\n",
        "  all_matches=[]\n",
        "  while len(matches)<len(boys_preference):\n",
        "    all_matches.append(dict(matches))\n",
        "    counter+=1\n",
        "    for i in boys_preference:\n",
        "        if boys_status[i]=='Unmatched':\n",
        "            boys_list=boys_preference[i]\n",
        "            for j in boys_list:\n",
        "                if girls_status[j]=='Unmatched':\n",
        "                    matches[j]=i\n",
        "                    boys_status[i]='Matched'\n",
        "                    girls_status[j]='Matched'\n",
        "                    girls_proposed1[j].append(i)\n",
        "                    girls_proposed2[j].append(\"Yes\")\n",
        "                    break\n",
        "                else:\n",
        "                    if index_finder(matches[j],girls_preference[j])<index_finder(i,girls_preference[j]):\n",
        "                        girls_proposed1[j].append(i)\n",
        "                        girls_proposed2[j].append(\"No\")\n",
        "                    elif index_finder(matches[j],girls_preference[j])>index_finder(i,girls_preference[j]):\n",
        "                        boys_status[matches[j]]='Unmatched'\n",
        "                        boys_status[i]='Matched'\n",
        "                        matches[j]=i\n",
        "                        girls_proposed1[j].append(i)\n",
        "                        girls_proposed2[j].append(\"Yes\")\n",
        "                        break\n",
        "                        \n",
        "        else:\n",
        "            continue\n",
        "  \n",
        "  all_matches.append(dict(matches))\n",
        "  if 'girl-1' in all_matches[1]:\n",
        "     return [matches,counter,all_matches[1],\"Yes\",girls_proposed1,girls_proposed2]\n",
        "  else:\n",
        "     return [matches,counter,all_matches[1],\"No\",girls_proposed1,girls_proposed2]\n",
        "                "
      ]
    },
    {
      "cell_type": "code",
      "source": [],
      "metadata": {
        "id": "hnK-MgLbUUic"
      },
      "execution_count": null,
      "outputs": []
    },
    {
      "cell_type": "code",
      "source": [
        "#Gale shapely algorithem \n",
        "def gale_shapely1(boys_preference,girls_preference,boys_status,girls_status,matches): \n",
        "  while len(matches)<len(boys_preference):\n",
        "    for i in boys_preference:\n",
        "        if boys_status[i]=='Unmatched':\n",
        "            boys_list=boys_preference[i]\n",
        "            for j in boys_list:\n",
        "                if girls_status[j]=='Unmatched':\n",
        "                    matches[j]=i\n",
        "                    boys_status[i]='Matched'\n",
        "                    girls_status[j]='Matched'\n",
        "                    break\n",
        "                else:\n",
        "                    if index_finder(matches[j],girls_preference[j])>index_finder(i,girls_preference[j]):\n",
        "                        boys_status[matches[j]]='Unmatched'\n",
        "                        boys_status[i]='Matched'\n",
        "                        matches[j]=i\n",
        "                        break\n",
        "                        \n",
        "        else:\n",
        "            continue\n",
        "                "
      ],
      "metadata": {
        "id": "bnabTI3rUUSl"
      },
      "execution_count": 739,
      "outputs": []
    },
    {
      "cell_type": "code",
      "execution_count": 764,
      "metadata": {
        "id": "1fNWKyK67D6J"
      },
      "outputs": [],
      "source": [
        "#Input the value for number of men and women to generate preference \n",
        "\n",
        "boys_preference = preference_list('boy','girl',5)\n",
        "girls_preference = preference_list('girl','boy',5)\n",
        "matches={}\n",
        "boys_status={}\n",
        "girls_status={}\n",
        "change_preference(boys_preference,girls_preference)\n",
        "reset_match_status(boys_preference,girls_preference,boys_status,girls_status)\n",
        "girls_proposed1 = {new_list: [] for new_list in girls_preference}\n",
        "girls_proposed2 = {new_list: [] for new_list in girls_preference}\n",
        "matches,counter,first_Iteration_matches,a,girls_proposed1,girls_proposed2 = gale_shapely(boys_preference,girls_preference,boys_status,girls_status,matches,girls_proposed1,girls_proposed2)\n",
        "first_Iteration_matches = dict(sorted(first_Iteration_matches.items()))\n",
        "for i in girls_proposed1:\n",
        "    empty=[]\n",
        "    for j,k in enumerate(girls_proposed1[i]):\n",
        "        if k not in empty:\n",
        "            empty.append(k)\n",
        "        else:           \n",
        "            girls_proposed1[i].pop(j)\n",
        "            girls_proposed2[i].pop(j)\n",
        "final_girl_proposed = {new_list: [] for new_list in girls_preference}\n",
        "for i in final_girl_proposed:\n",
        "    final_girl_proposed[i]=list(zip(girls_proposed1[i],girls_proposed2[i]))\n",
        "matches_men_to_women = dict(sorted(matches.items()))\n",
        "matches.clear()\n",
        "reset_match_status(boys_preference,girls_preference,boys_status,girls_status)\n",
        "gale_shapely1(girls_preference,boys_preference,girls_status,boys_status,matches)\n",
        "matches_women_to_men = dict(sorted(matches.items()))\n",
        "index_men_propose_to_women = index_finder(matches_men_to_women['girl-1'],girls_preference['girl-1']) + 1\n",
        "index_women_propose_to_men = index_finder1(matches_women_to_men) + 1 \n",
        "if index_men_propose_to_women == index_women_propose_to_men:\n",
        "  b = \"Yes\"\n",
        "else:\n",
        "  b = \"No\"\n",
        "\n"
      ]
    },
    {
      "cell_type": "code",
      "source": [
        "print(boys_preference)\n",
        "print(girls_preference)\n",
        "print(matches_men_to_women)\n",
        "print(counter)\n",
        "print(first_Iteration_matches)\n",
        "print(a)\n",
        "print(final_girl_proposed['girl-1'])\n",
        "print(matches_women_to_men)\n",
        "print(index_men_propose_to_women)\n",
        "print(index_women_propose_to_men)\n",
        "print(b)\n"
      ],
      "metadata": {
        "colab": {
          "base_uri": "https://localhost:8080/"
        },
        "id": "EqZkGuQFuy7P",
        "outputId": "2da3c613-d4bb-42c1-8b41-fb0ad555a0a1"
      },
      "execution_count": 765,
      "outputs": [
        {
          "output_type": "stream",
          "name": "stdout",
          "text": [
            "{'boy-1': ['girl-3', 'girl-5', 'girl-4', 'girl-1', 'girl-2'], 'boy-2': ['girl-3', 'girl-5', 'girl-1', 'girl-4', 'girl-2'], 'boy-3': ['girl-3', 'girl-1', 'girl-2', 'girl-5', 'girl-4'], 'boy-4': ['girl-1', 'girl-5', 'girl-3', 'girl-2', 'girl-4'], 'boy-5': ['girl-2', 'girl-4', 'girl-5', 'girl-1', 'girl-3']}\n",
            "{'girl-1': ['boy-1', 'boy-2', 'boy-3', 'boy-4', 'boy-5'], 'girl-2': ['boy-2', 'boy-3', 'boy-1', 'boy-4', 'boy-5'], 'girl-3': ['boy-4', 'boy-5', 'boy-2', 'boy-3', 'boy-1'], 'girl-4': ['boy-3', 'boy-4', 'boy-2', 'boy-5', 'boy-1'], 'girl-5': ['boy-5', 'boy-1', 'boy-3', 'boy-2', 'boy-4']}\n",
            "{'girl-1': 'boy-2', 'girl-2': 'boy-3', 'girl-3': 'boy-4', 'girl-4': 'boy-5', 'girl-5': 'boy-1'}\n",
            "3\n",
            "{'girl-1': 'boy-3', 'girl-2': 'boy-5', 'girl-3': 'boy-2', 'girl-5': 'boy-4'}\n",
            "Yes\n",
            "[('boy-3', 'Yes'), ('boy-4', 'No'), ('boy-2', 'Yes')]\n",
            "{'boy-1': 'girl-1', 'boy-2': 'girl-2', 'boy-3': 'girl-4', 'boy-4': 'girl-3', 'boy-5': 'girl-5'}\n",
            "2\n",
            "1\n",
            "No\n"
          ]
        }
      ]
    },
    {
      "cell_type": "code",
      "source": [
        "#compute all permutation of the preference of manipulating girl \n",
        "from itertools import permutations\n",
        "col = list(permutations(girls_preference['girl-1']))\n",
        "print(col)"
      ],
      "metadata": {
        "colab": {
          "base_uri": "https://localhost:8080/"
        },
        "id": "zlM56tod8SB4",
        "outputId": "a0a1c749-3126-4afb-b7cf-cb3f7fab88b7"
      },
      "execution_count": 766,
      "outputs": [
        {
          "output_type": "stream",
          "name": "stdout",
          "text": [
            "[('boy-1', 'boy-2', 'boy-3', 'boy-4', 'boy-5'), ('boy-1', 'boy-2', 'boy-3', 'boy-5', 'boy-4'), ('boy-1', 'boy-2', 'boy-4', 'boy-3', 'boy-5'), ('boy-1', 'boy-2', 'boy-4', 'boy-5', 'boy-3'), ('boy-1', 'boy-2', 'boy-5', 'boy-3', 'boy-4'), ('boy-1', 'boy-2', 'boy-5', 'boy-4', 'boy-3'), ('boy-1', 'boy-3', 'boy-2', 'boy-4', 'boy-5'), ('boy-1', 'boy-3', 'boy-2', 'boy-5', 'boy-4'), ('boy-1', 'boy-3', 'boy-4', 'boy-2', 'boy-5'), ('boy-1', 'boy-3', 'boy-4', 'boy-5', 'boy-2'), ('boy-1', 'boy-3', 'boy-5', 'boy-2', 'boy-4'), ('boy-1', 'boy-3', 'boy-5', 'boy-4', 'boy-2'), ('boy-1', 'boy-4', 'boy-2', 'boy-3', 'boy-5'), ('boy-1', 'boy-4', 'boy-2', 'boy-5', 'boy-3'), ('boy-1', 'boy-4', 'boy-3', 'boy-2', 'boy-5'), ('boy-1', 'boy-4', 'boy-3', 'boy-5', 'boy-2'), ('boy-1', 'boy-4', 'boy-5', 'boy-2', 'boy-3'), ('boy-1', 'boy-4', 'boy-5', 'boy-3', 'boy-2'), ('boy-1', 'boy-5', 'boy-2', 'boy-3', 'boy-4'), ('boy-1', 'boy-5', 'boy-2', 'boy-4', 'boy-3'), ('boy-1', 'boy-5', 'boy-3', 'boy-2', 'boy-4'), ('boy-1', 'boy-5', 'boy-3', 'boy-4', 'boy-2'), ('boy-1', 'boy-5', 'boy-4', 'boy-2', 'boy-3'), ('boy-1', 'boy-5', 'boy-4', 'boy-3', 'boy-2'), ('boy-2', 'boy-1', 'boy-3', 'boy-4', 'boy-5'), ('boy-2', 'boy-1', 'boy-3', 'boy-5', 'boy-4'), ('boy-2', 'boy-1', 'boy-4', 'boy-3', 'boy-5'), ('boy-2', 'boy-1', 'boy-4', 'boy-5', 'boy-3'), ('boy-2', 'boy-1', 'boy-5', 'boy-3', 'boy-4'), ('boy-2', 'boy-1', 'boy-5', 'boy-4', 'boy-3'), ('boy-2', 'boy-3', 'boy-1', 'boy-4', 'boy-5'), ('boy-2', 'boy-3', 'boy-1', 'boy-5', 'boy-4'), ('boy-2', 'boy-3', 'boy-4', 'boy-1', 'boy-5'), ('boy-2', 'boy-3', 'boy-4', 'boy-5', 'boy-1'), ('boy-2', 'boy-3', 'boy-5', 'boy-1', 'boy-4'), ('boy-2', 'boy-3', 'boy-5', 'boy-4', 'boy-1'), ('boy-2', 'boy-4', 'boy-1', 'boy-3', 'boy-5'), ('boy-2', 'boy-4', 'boy-1', 'boy-5', 'boy-3'), ('boy-2', 'boy-4', 'boy-3', 'boy-1', 'boy-5'), ('boy-2', 'boy-4', 'boy-3', 'boy-5', 'boy-1'), ('boy-2', 'boy-4', 'boy-5', 'boy-1', 'boy-3'), ('boy-2', 'boy-4', 'boy-5', 'boy-3', 'boy-1'), ('boy-2', 'boy-5', 'boy-1', 'boy-3', 'boy-4'), ('boy-2', 'boy-5', 'boy-1', 'boy-4', 'boy-3'), ('boy-2', 'boy-5', 'boy-3', 'boy-1', 'boy-4'), ('boy-2', 'boy-5', 'boy-3', 'boy-4', 'boy-1'), ('boy-2', 'boy-5', 'boy-4', 'boy-1', 'boy-3'), ('boy-2', 'boy-5', 'boy-4', 'boy-3', 'boy-1'), ('boy-3', 'boy-1', 'boy-2', 'boy-4', 'boy-5'), ('boy-3', 'boy-1', 'boy-2', 'boy-5', 'boy-4'), ('boy-3', 'boy-1', 'boy-4', 'boy-2', 'boy-5'), ('boy-3', 'boy-1', 'boy-4', 'boy-5', 'boy-2'), ('boy-3', 'boy-1', 'boy-5', 'boy-2', 'boy-4'), ('boy-3', 'boy-1', 'boy-5', 'boy-4', 'boy-2'), ('boy-3', 'boy-2', 'boy-1', 'boy-4', 'boy-5'), ('boy-3', 'boy-2', 'boy-1', 'boy-5', 'boy-4'), ('boy-3', 'boy-2', 'boy-4', 'boy-1', 'boy-5'), ('boy-3', 'boy-2', 'boy-4', 'boy-5', 'boy-1'), ('boy-3', 'boy-2', 'boy-5', 'boy-1', 'boy-4'), ('boy-3', 'boy-2', 'boy-5', 'boy-4', 'boy-1'), ('boy-3', 'boy-4', 'boy-1', 'boy-2', 'boy-5'), ('boy-3', 'boy-4', 'boy-1', 'boy-5', 'boy-2'), ('boy-3', 'boy-4', 'boy-2', 'boy-1', 'boy-5'), ('boy-3', 'boy-4', 'boy-2', 'boy-5', 'boy-1'), ('boy-3', 'boy-4', 'boy-5', 'boy-1', 'boy-2'), ('boy-3', 'boy-4', 'boy-5', 'boy-2', 'boy-1'), ('boy-3', 'boy-5', 'boy-1', 'boy-2', 'boy-4'), ('boy-3', 'boy-5', 'boy-1', 'boy-4', 'boy-2'), ('boy-3', 'boy-5', 'boy-2', 'boy-1', 'boy-4'), ('boy-3', 'boy-5', 'boy-2', 'boy-4', 'boy-1'), ('boy-3', 'boy-5', 'boy-4', 'boy-1', 'boy-2'), ('boy-3', 'boy-5', 'boy-4', 'boy-2', 'boy-1'), ('boy-4', 'boy-1', 'boy-2', 'boy-3', 'boy-5'), ('boy-4', 'boy-1', 'boy-2', 'boy-5', 'boy-3'), ('boy-4', 'boy-1', 'boy-3', 'boy-2', 'boy-5'), ('boy-4', 'boy-1', 'boy-3', 'boy-5', 'boy-2'), ('boy-4', 'boy-1', 'boy-5', 'boy-2', 'boy-3'), ('boy-4', 'boy-1', 'boy-5', 'boy-3', 'boy-2'), ('boy-4', 'boy-2', 'boy-1', 'boy-3', 'boy-5'), ('boy-4', 'boy-2', 'boy-1', 'boy-5', 'boy-3'), ('boy-4', 'boy-2', 'boy-3', 'boy-1', 'boy-5'), ('boy-4', 'boy-2', 'boy-3', 'boy-5', 'boy-1'), ('boy-4', 'boy-2', 'boy-5', 'boy-1', 'boy-3'), ('boy-4', 'boy-2', 'boy-5', 'boy-3', 'boy-1'), ('boy-4', 'boy-3', 'boy-1', 'boy-2', 'boy-5'), ('boy-4', 'boy-3', 'boy-1', 'boy-5', 'boy-2'), ('boy-4', 'boy-3', 'boy-2', 'boy-1', 'boy-5'), ('boy-4', 'boy-3', 'boy-2', 'boy-5', 'boy-1'), ('boy-4', 'boy-3', 'boy-5', 'boy-1', 'boy-2'), ('boy-4', 'boy-3', 'boy-5', 'boy-2', 'boy-1'), ('boy-4', 'boy-5', 'boy-1', 'boy-2', 'boy-3'), ('boy-4', 'boy-5', 'boy-1', 'boy-3', 'boy-2'), ('boy-4', 'boy-5', 'boy-2', 'boy-1', 'boy-3'), ('boy-4', 'boy-5', 'boy-2', 'boy-3', 'boy-1'), ('boy-4', 'boy-5', 'boy-3', 'boy-1', 'boy-2'), ('boy-4', 'boy-5', 'boy-3', 'boy-2', 'boy-1'), ('boy-5', 'boy-1', 'boy-2', 'boy-3', 'boy-4'), ('boy-5', 'boy-1', 'boy-2', 'boy-4', 'boy-3'), ('boy-5', 'boy-1', 'boy-3', 'boy-2', 'boy-4'), ('boy-5', 'boy-1', 'boy-3', 'boy-4', 'boy-2'), ('boy-5', 'boy-1', 'boy-4', 'boy-2', 'boy-3'), ('boy-5', 'boy-1', 'boy-4', 'boy-3', 'boy-2'), ('boy-5', 'boy-2', 'boy-1', 'boy-3', 'boy-4'), ('boy-5', 'boy-2', 'boy-1', 'boy-4', 'boy-3'), ('boy-5', 'boy-2', 'boy-3', 'boy-1', 'boy-4'), ('boy-5', 'boy-2', 'boy-3', 'boy-4', 'boy-1'), ('boy-5', 'boy-2', 'boy-4', 'boy-1', 'boy-3'), ('boy-5', 'boy-2', 'boy-4', 'boy-3', 'boy-1'), ('boy-5', 'boy-3', 'boy-1', 'boy-2', 'boy-4'), ('boy-5', 'boy-3', 'boy-1', 'boy-4', 'boy-2'), ('boy-5', 'boy-3', 'boy-2', 'boy-1', 'boy-4'), ('boy-5', 'boy-3', 'boy-2', 'boy-4', 'boy-1'), ('boy-5', 'boy-3', 'boy-4', 'boy-1', 'boy-2'), ('boy-5', 'boy-3', 'boy-4', 'boy-2', 'boy-1'), ('boy-5', 'boy-4', 'boy-1', 'boy-2', 'boy-3'), ('boy-5', 'boy-4', 'boy-1', 'boy-3', 'boy-2'), ('boy-5', 'boy-4', 'boy-2', 'boy-1', 'boy-3'), ('boy-5', 'boy-4', 'boy-2', 'boy-3', 'boy-1'), ('boy-5', 'boy-4', 'boy-3', 'boy-1', 'boy-2'), ('boy-5', 'boy-4', 'boy-3', 'boy-2', 'boy-1')]\n"
          ]
        }
      ]
    },
    {
      "cell_type": "code",
      "source": [],
      "metadata": {
        "id": "NhhhurHlCvOh"
      },
      "execution_count": null,
      "outputs": []
    },
    {
      "cell_type": "code",
      "source": [
        "#The optimal preference for the manipulating girl  \n",
        "m=index_women_propose_to_men\n",
        "col=[]\n",
        "arr=girls_preference['girl-1']\n",
        "for i in range(m,len(arr)):\n",
        "   a=list(arr)\n",
        "   b=a.pop(i)\n",
        "   for j in range(0,i-1):\n",
        "        new=a[:m+j]+[b]+a[m+j:]\n",
        "        if new not in col:\n",
        "         col.append(new)"
      ],
      "metadata": {
        "id": "dpgFS0PHCvMM"
      },
      "execution_count": 680,
      "outputs": []
    },
    {
      "cell_type": "code",
      "source": [],
      "metadata": {
        "id": "mhh3V-DjeSkP"
      },
      "execution_count": null,
      "outputs": []
    },
    {
      "cell_type": "code",
      "source": [
        "best_match_index = index_men_propose_to_women\n",
        "best_preference_order = girls_preference['girl-1']\n",
        "zz = girls_preference['girl-1']\n",
        "for i in range(len(col)):\n",
        "  girls_preference['girl-1'] = col[i]\n",
        "  matches.clear()\n",
        "  reset_match_status(boys_preference,girls_preference,boys_status,girls_status)\n",
        "  gale_shapely1(boys_preference,girls_preference,boys_status,girls_status,matches)\n",
        "  _index = index_finder(matches['girl-1'],zz) + 1\n",
        "  print(_index)\n",
        "  print(col[i])\n",
        "  if _index < best_match_index:\n",
        "    print(\"bdjsabjff\")\n",
        "    print(_index)\n",
        "    best_match_index = _index\n",
        "    best_preference_order = col[i]\n",
        "  else:\n",
        "    continue\n",
        "\n",
        "\n",
        "\n",
        "\n",
        "\n",
        "\n"
      ],
      "metadata": {
        "colab": {
          "base_uri": "https://localhost:8080/"
        },
        "id": "TERnNAPNCvEq",
        "outputId": "80b668a6-7001-42bf-a870-31b745713108"
      },
      "execution_count": 767,
      "outputs": [
        {
          "output_type": "stream",
          "name": "stdout",
          "text": [
            "2\n",
            "('boy-1', 'boy-2', 'boy-3', 'boy-4', 'boy-5')\n",
            "2\n",
            "('boy-1', 'boy-2', 'boy-3', 'boy-5', 'boy-4')\n",
            "4\n",
            "('boy-1', 'boy-2', 'boy-4', 'boy-3', 'boy-5')\n",
            "4\n",
            "('boy-1', 'boy-2', 'boy-4', 'boy-5', 'boy-3')\n",
            "2\n",
            "('boy-1', 'boy-2', 'boy-5', 'boy-3', 'boy-4')\n",
            "4\n",
            "('boy-1', 'boy-2', 'boy-5', 'boy-4', 'boy-3')\n",
            "3\n",
            "('boy-1', 'boy-3', 'boy-2', 'boy-4', 'boy-5')\n",
            "3\n",
            "('boy-1', 'boy-3', 'boy-2', 'boy-5', 'boy-4')\n",
            "3\n",
            "('boy-1', 'boy-3', 'boy-4', 'boy-2', 'boy-5')\n",
            "3\n",
            "('boy-1', 'boy-3', 'boy-4', 'boy-5', 'boy-2')\n",
            "3\n",
            "('boy-1', 'boy-3', 'boy-5', 'boy-2', 'boy-4')\n",
            "3\n",
            "('boy-1', 'boy-3', 'boy-5', 'boy-4', 'boy-2')\n",
            "4\n",
            "('boy-1', 'boy-4', 'boy-2', 'boy-3', 'boy-5')\n",
            "4\n",
            "('boy-1', 'boy-4', 'boy-2', 'boy-5', 'boy-3')\n",
            "4\n",
            "('boy-1', 'boy-4', 'boy-3', 'boy-2', 'boy-5')\n",
            "4\n",
            "('boy-1', 'boy-4', 'boy-3', 'boy-5', 'boy-2')\n",
            "4\n",
            "('boy-1', 'boy-4', 'boy-5', 'boy-2', 'boy-3')\n",
            "4\n",
            "('boy-1', 'boy-4', 'boy-5', 'boy-3', 'boy-2')\n",
            "2\n",
            "('boy-1', 'boy-5', 'boy-2', 'boy-3', 'boy-4')\n",
            "4\n",
            "('boy-1', 'boy-5', 'boy-2', 'boy-4', 'boy-3')\n",
            "3\n",
            "('boy-1', 'boy-5', 'boy-3', 'boy-2', 'boy-4')\n",
            "3\n",
            "('boy-1', 'boy-5', 'boy-3', 'boy-4', 'boy-2')\n",
            "4\n",
            "('boy-1', 'boy-5', 'boy-4', 'boy-2', 'boy-3')\n",
            "4\n",
            "('boy-1', 'boy-5', 'boy-4', 'boy-3', 'boy-2')\n",
            "2\n",
            "('boy-2', 'boy-1', 'boy-3', 'boy-4', 'boy-5')\n",
            "2\n",
            "('boy-2', 'boy-1', 'boy-3', 'boy-5', 'boy-4')\n",
            "4\n",
            "('boy-2', 'boy-1', 'boy-4', 'boy-3', 'boy-5')\n",
            "4\n",
            "('boy-2', 'boy-1', 'boy-4', 'boy-5', 'boy-3')\n",
            "2\n",
            "('boy-2', 'boy-1', 'boy-5', 'boy-3', 'boy-4')\n",
            "4\n",
            "('boy-2', 'boy-1', 'boy-5', 'boy-4', 'boy-3')\n",
            "2\n",
            "('boy-2', 'boy-3', 'boy-1', 'boy-4', 'boy-5')\n",
            "2\n",
            "('boy-2', 'boy-3', 'boy-1', 'boy-5', 'boy-4')\n",
            "2\n",
            "('boy-2', 'boy-3', 'boy-4', 'boy-1', 'boy-5')\n",
            "2\n",
            "('boy-2', 'boy-3', 'boy-4', 'boy-5', 'boy-1')\n",
            "2\n",
            "('boy-2', 'boy-3', 'boy-5', 'boy-1', 'boy-4')\n",
            "2\n",
            "('boy-2', 'boy-3', 'boy-5', 'boy-4', 'boy-1')\n",
            "4\n",
            "('boy-2', 'boy-4', 'boy-1', 'boy-3', 'boy-5')\n",
            "4\n",
            "('boy-2', 'boy-4', 'boy-1', 'boy-5', 'boy-3')\n",
            "4\n",
            "('boy-2', 'boy-4', 'boy-3', 'boy-1', 'boy-5')\n",
            "4\n",
            "('boy-2', 'boy-4', 'boy-3', 'boy-5', 'boy-1')\n",
            "4\n",
            "('boy-2', 'boy-4', 'boy-5', 'boy-1', 'boy-3')\n",
            "4\n",
            "('boy-2', 'boy-4', 'boy-5', 'boy-3', 'boy-1')\n",
            "2\n",
            "('boy-2', 'boy-5', 'boy-1', 'boy-3', 'boy-4')\n",
            "4\n",
            "('boy-2', 'boy-5', 'boy-1', 'boy-4', 'boy-3')\n",
            "2\n",
            "('boy-2', 'boy-5', 'boy-3', 'boy-1', 'boy-4')\n",
            "2\n",
            "('boy-2', 'boy-5', 'boy-3', 'boy-4', 'boy-1')\n",
            "4\n",
            "('boy-2', 'boy-5', 'boy-4', 'boy-1', 'boy-3')\n",
            "4\n",
            "('boy-2', 'boy-5', 'boy-4', 'boy-3', 'boy-1')\n",
            "3\n",
            "('boy-3', 'boy-1', 'boy-2', 'boy-4', 'boy-5')\n",
            "3\n",
            "('boy-3', 'boy-1', 'boy-2', 'boy-5', 'boy-4')\n",
            "3\n",
            "('boy-3', 'boy-1', 'boy-4', 'boy-2', 'boy-5')\n",
            "3\n",
            "('boy-3', 'boy-1', 'boy-4', 'boy-5', 'boy-2')\n",
            "3\n",
            "('boy-3', 'boy-1', 'boy-5', 'boy-2', 'boy-4')\n",
            "3\n",
            "('boy-3', 'boy-1', 'boy-5', 'boy-4', 'boy-2')\n",
            "3\n",
            "('boy-3', 'boy-2', 'boy-1', 'boy-4', 'boy-5')\n",
            "3\n",
            "('boy-3', 'boy-2', 'boy-1', 'boy-5', 'boy-4')\n",
            "3\n",
            "('boy-3', 'boy-2', 'boy-4', 'boy-1', 'boy-5')\n",
            "3\n",
            "('boy-3', 'boy-2', 'boy-4', 'boy-5', 'boy-1')\n",
            "3\n",
            "('boy-3', 'boy-2', 'boy-5', 'boy-1', 'boy-4')\n",
            "3\n",
            "('boy-3', 'boy-2', 'boy-5', 'boy-4', 'boy-1')\n",
            "3\n",
            "('boy-3', 'boy-4', 'boy-1', 'boy-2', 'boy-5')\n",
            "3\n",
            "('boy-3', 'boy-4', 'boy-1', 'boy-5', 'boy-2')\n",
            "3\n",
            "('boy-3', 'boy-4', 'boy-2', 'boy-1', 'boy-5')\n",
            "3\n",
            "('boy-3', 'boy-4', 'boy-2', 'boy-5', 'boy-1')\n",
            "3\n",
            "('boy-3', 'boy-4', 'boy-5', 'boy-1', 'boy-2')\n",
            "3\n",
            "('boy-3', 'boy-4', 'boy-5', 'boy-2', 'boy-1')\n",
            "3\n",
            "('boy-3', 'boy-5', 'boy-1', 'boy-2', 'boy-4')\n",
            "3\n",
            "('boy-3', 'boy-5', 'boy-1', 'boy-4', 'boy-2')\n",
            "3\n",
            "('boy-3', 'boy-5', 'boy-2', 'boy-1', 'boy-4')\n",
            "3\n",
            "('boy-3', 'boy-5', 'boy-2', 'boy-4', 'boy-1')\n",
            "3\n",
            "('boy-3', 'boy-5', 'boy-4', 'boy-1', 'boy-2')\n",
            "3\n",
            "('boy-3', 'boy-5', 'boy-4', 'boy-2', 'boy-1')\n",
            "4\n",
            "('boy-4', 'boy-1', 'boy-2', 'boy-3', 'boy-5')\n",
            "4\n",
            "('boy-4', 'boy-1', 'boy-2', 'boy-5', 'boy-3')\n",
            "4\n",
            "('boy-4', 'boy-1', 'boy-3', 'boy-2', 'boy-5')\n",
            "4\n",
            "('boy-4', 'boy-1', 'boy-3', 'boy-5', 'boy-2')\n",
            "4\n",
            "('boy-4', 'boy-1', 'boy-5', 'boy-2', 'boy-3')\n",
            "4\n",
            "('boy-4', 'boy-1', 'boy-5', 'boy-3', 'boy-2')\n",
            "4\n",
            "('boy-4', 'boy-2', 'boy-1', 'boy-3', 'boy-5')\n",
            "4\n",
            "('boy-4', 'boy-2', 'boy-1', 'boy-5', 'boy-3')\n",
            "4\n",
            "('boy-4', 'boy-2', 'boy-3', 'boy-1', 'boy-5')\n",
            "4\n",
            "('boy-4', 'boy-2', 'boy-3', 'boy-5', 'boy-1')\n",
            "4\n",
            "('boy-4', 'boy-2', 'boy-5', 'boy-1', 'boy-3')\n",
            "4\n",
            "('boy-4', 'boy-2', 'boy-5', 'boy-3', 'boy-1')\n",
            "4\n",
            "('boy-4', 'boy-3', 'boy-1', 'boy-2', 'boy-5')\n",
            "4\n",
            "('boy-4', 'boy-3', 'boy-1', 'boy-5', 'boy-2')\n",
            "4\n",
            "('boy-4', 'boy-3', 'boy-2', 'boy-1', 'boy-5')\n",
            "4\n",
            "('boy-4', 'boy-3', 'boy-2', 'boy-5', 'boy-1')\n",
            "4\n",
            "('boy-4', 'boy-3', 'boy-5', 'boy-1', 'boy-2')\n",
            "4\n",
            "('boy-4', 'boy-3', 'boy-5', 'boy-2', 'boy-1')\n",
            "4\n",
            "('boy-4', 'boy-5', 'boy-1', 'boy-2', 'boy-3')\n",
            "4\n",
            "('boy-4', 'boy-5', 'boy-1', 'boy-3', 'boy-2')\n",
            "4\n",
            "('boy-4', 'boy-5', 'boy-2', 'boy-1', 'boy-3')\n",
            "4\n",
            "('boy-4', 'boy-5', 'boy-2', 'boy-3', 'boy-1')\n",
            "4\n",
            "('boy-4', 'boy-5', 'boy-3', 'boy-1', 'boy-2')\n",
            "4\n",
            "('boy-4', 'boy-5', 'boy-3', 'boy-2', 'boy-1')\n",
            "2\n",
            "('boy-5', 'boy-1', 'boy-2', 'boy-3', 'boy-4')\n",
            "4\n",
            "('boy-5', 'boy-1', 'boy-2', 'boy-4', 'boy-3')\n",
            "3\n",
            "('boy-5', 'boy-1', 'boy-3', 'boy-2', 'boy-4')\n",
            "3\n",
            "('boy-5', 'boy-1', 'boy-3', 'boy-4', 'boy-2')\n",
            "4\n",
            "('boy-5', 'boy-1', 'boy-4', 'boy-2', 'boy-3')\n",
            "4\n",
            "('boy-5', 'boy-1', 'boy-4', 'boy-3', 'boy-2')\n",
            "2\n",
            "('boy-5', 'boy-2', 'boy-1', 'boy-3', 'boy-4')\n",
            "4\n",
            "('boy-5', 'boy-2', 'boy-1', 'boy-4', 'boy-3')\n",
            "2\n",
            "('boy-5', 'boy-2', 'boy-3', 'boy-1', 'boy-4')\n",
            "2\n",
            "('boy-5', 'boy-2', 'boy-3', 'boy-4', 'boy-1')\n",
            "4\n",
            "('boy-5', 'boy-2', 'boy-4', 'boy-1', 'boy-3')\n",
            "4\n",
            "('boy-5', 'boy-2', 'boy-4', 'boy-3', 'boy-1')\n",
            "3\n",
            "('boy-5', 'boy-3', 'boy-1', 'boy-2', 'boy-4')\n",
            "3\n",
            "('boy-5', 'boy-3', 'boy-1', 'boy-4', 'boy-2')\n",
            "3\n",
            "('boy-5', 'boy-3', 'boy-2', 'boy-1', 'boy-4')\n",
            "3\n",
            "('boy-5', 'boy-3', 'boy-2', 'boy-4', 'boy-1')\n",
            "3\n",
            "('boy-5', 'boy-3', 'boy-4', 'boy-1', 'boy-2')\n",
            "3\n",
            "('boy-5', 'boy-3', 'boy-4', 'boy-2', 'boy-1')\n",
            "4\n",
            "('boy-5', 'boy-4', 'boy-1', 'boy-2', 'boy-3')\n",
            "4\n",
            "('boy-5', 'boy-4', 'boy-1', 'boy-3', 'boy-2')\n",
            "4\n",
            "('boy-5', 'boy-4', 'boy-2', 'boy-1', 'boy-3')\n",
            "4\n",
            "('boy-5', 'boy-4', 'boy-2', 'boy-3', 'boy-1')\n",
            "4\n",
            "('boy-5', 'boy-4', 'boy-3', 'boy-1', 'boy-2')\n",
            "4\n",
            "('boy-5', 'boy-4', 'boy-3', 'boy-2', 'boy-1')\n"
          ]
        }
      ]
    },
    {
      "cell_type": "code",
      "source": [
        "best_preference_order"
      ],
      "metadata": {
        "colab": {
          "base_uri": "https://localhost:8080/"
        },
        "id": "a7lue2P_n1kH",
        "outputId": "4f5dc6f8-9350-468e-d8b5-ba2759f11020"
      },
      "execution_count": 682,
      "outputs": [
        {
          "output_type": "execute_result",
          "data": {
            "text/plain": [
              "['boy-1',\n",
              " 'boy-2',\n",
              " 'boy-3',\n",
              " 'boy-4',\n",
              " 'boy-5',\n",
              " 'boy-6',\n",
              " 'boy-7',\n",
              " 'boy-8',\n",
              " 'boy-9',\n",
              " 'boy-10',\n",
              " 'boy-11',\n",
              " 'boy-12',\n",
              " 'boy-13',\n",
              " 'boy-14',\n",
              " 'boy-15']"
            ]
          },
          "metadata": {},
          "execution_count": 682
        }
      ]
    },
    {
      "cell_type": "code",
      "source": [
        "girls_preference['girl-1'] = best_preference_order"
      ],
      "metadata": {
        "id": "YOejzMXen1hl"
      },
      "execution_count": 683,
      "outputs": []
    },
    {
      "cell_type": "code",
      "source": [
        "girls_preference"
      ],
      "metadata": {
        "colab": {
          "base_uri": "https://localhost:8080/"
        },
        "id": "lNVxvqX3n1fF",
        "outputId": "9eaf043e-226a-4831-b5e1-6e11a51d7223"
      },
      "execution_count": 684,
      "outputs": [
        {
          "output_type": "execute_result",
          "data": {
            "text/plain": [
              "{'girl-1': ['boy-1',\n",
              "  'boy-2',\n",
              "  'boy-3',\n",
              "  'boy-4',\n",
              "  'boy-5',\n",
              "  'boy-6',\n",
              "  'boy-7',\n",
              "  'boy-8',\n",
              "  'boy-9',\n",
              "  'boy-10',\n",
              "  'boy-11',\n",
              "  'boy-12',\n",
              "  'boy-13',\n",
              "  'boy-14',\n",
              "  'boy-15'],\n",
              " 'girl-2': ['boy-12',\n",
              "  'boy-14',\n",
              "  'boy-8',\n",
              "  'boy-5',\n",
              "  'boy-7',\n",
              "  'boy-13',\n",
              "  'boy-6',\n",
              "  'boy-11',\n",
              "  'boy-15',\n",
              "  'boy-4',\n",
              "  'boy-10',\n",
              "  'boy-1',\n",
              "  'boy-9',\n",
              "  'boy-3',\n",
              "  'boy-2'],\n",
              " 'girl-3': ['boy-12',\n",
              "  'boy-7',\n",
              "  'boy-9',\n",
              "  'boy-4',\n",
              "  'boy-14',\n",
              "  'boy-3',\n",
              "  'boy-5',\n",
              "  'boy-11',\n",
              "  'boy-6',\n",
              "  'boy-1',\n",
              "  'boy-13',\n",
              "  'boy-8',\n",
              "  'boy-10',\n",
              "  'boy-2',\n",
              "  'boy-15'],\n",
              " 'girl-4': ['boy-1',\n",
              "  'boy-2',\n",
              "  'boy-5',\n",
              "  'boy-15',\n",
              "  'boy-9',\n",
              "  'boy-3',\n",
              "  'boy-7',\n",
              "  'boy-12',\n",
              "  'boy-14',\n",
              "  'boy-8',\n",
              "  'boy-4',\n",
              "  'boy-11',\n",
              "  'boy-10',\n",
              "  'boy-6',\n",
              "  'boy-13'],\n",
              " 'girl-5': ['boy-5',\n",
              "  'boy-9',\n",
              "  'boy-2',\n",
              "  'boy-12',\n",
              "  'boy-7',\n",
              "  'boy-13',\n",
              "  'boy-3',\n",
              "  'boy-8',\n",
              "  'boy-6',\n",
              "  'boy-1',\n",
              "  'boy-15',\n",
              "  'boy-4',\n",
              "  'boy-10',\n",
              "  'boy-14',\n",
              "  'boy-11'],\n",
              " 'girl-6': ['boy-12',\n",
              "  'boy-13',\n",
              "  'boy-1',\n",
              "  'boy-3',\n",
              "  'boy-2',\n",
              "  'boy-4',\n",
              "  'boy-8',\n",
              "  'boy-9',\n",
              "  'boy-10',\n",
              "  'boy-5',\n",
              "  'boy-14',\n",
              "  'boy-11',\n",
              "  'boy-6',\n",
              "  'boy-7',\n",
              "  'boy-15'],\n",
              " 'girl-7': ['boy-5',\n",
              "  'boy-7',\n",
              "  'boy-3',\n",
              "  'boy-15',\n",
              "  'boy-9',\n",
              "  'boy-1',\n",
              "  'boy-10',\n",
              "  'boy-2',\n",
              "  'boy-14',\n",
              "  'boy-13',\n",
              "  'boy-4',\n",
              "  'boy-11',\n",
              "  'boy-6',\n",
              "  'boy-12',\n",
              "  'boy-8'],\n",
              " 'girl-8': ['boy-1',\n",
              "  'boy-12',\n",
              "  'boy-11',\n",
              "  'boy-10',\n",
              "  'boy-7',\n",
              "  'boy-4',\n",
              "  'boy-2',\n",
              "  'boy-15',\n",
              "  'boy-8',\n",
              "  'boy-5',\n",
              "  'boy-6',\n",
              "  'boy-3',\n",
              "  'boy-9',\n",
              "  'boy-13',\n",
              "  'boy-14'],\n",
              " 'girl-9': ['boy-11',\n",
              "  'boy-7',\n",
              "  'boy-14',\n",
              "  'boy-13',\n",
              "  'boy-2',\n",
              "  'boy-1',\n",
              "  'boy-3',\n",
              "  'boy-15',\n",
              "  'boy-12',\n",
              "  'boy-9',\n",
              "  'boy-5',\n",
              "  'boy-10',\n",
              "  'boy-6',\n",
              "  'boy-4',\n",
              "  'boy-8'],\n",
              " 'girl-10': ['boy-10',\n",
              "  'boy-2',\n",
              "  'boy-12',\n",
              "  'boy-6',\n",
              "  'boy-3',\n",
              "  'boy-13',\n",
              "  'boy-14',\n",
              "  'boy-8',\n",
              "  'boy-15',\n",
              "  'boy-5',\n",
              "  'boy-7',\n",
              "  'boy-4',\n",
              "  'boy-9',\n",
              "  'boy-11',\n",
              "  'boy-1'],\n",
              " 'girl-11': ['boy-4',\n",
              "  'boy-6',\n",
              "  'boy-13',\n",
              "  'boy-14',\n",
              "  'boy-3',\n",
              "  'boy-2',\n",
              "  'boy-12',\n",
              "  'boy-9',\n",
              "  'boy-1',\n",
              "  'boy-10',\n",
              "  'boy-8',\n",
              "  'boy-5',\n",
              "  'boy-7',\n",
              "  'boy-15',\n",
              "  'boy-11'],\n",
              " 'girl-12': ['boy-14',\n",
              "  'boy-10',\n",
              "  'boy-15',\n",
              "  'boy-12',\n",
              "  'boy-3',\n",
              "  'boy-9',\n",
              "  'boy-4',\n",
              "  'boy-13',\n",
              "  'boy-1',\n",
              "  'boy-6',\n",
              "  'boy-5',\n",
              "  'boy-7',\n",
              "  'boy-2',\n",
              "  'boy-8',\n",
              "  'boy-11'],\n",
              " 'girl-13': ['boy-14',\n",
              "  'boy-12',\n",
              "  'boy-15',\n",
              "  'boy-13',\n",
              "  'boy-10',\n",
              "  'boy-9',\n",
              "  'boy-1',\n",
              "  'boy-3',\n",
              "  'boy-2',\n",
              "  'boy-4',\n",
              "  'boy-8',\n",
              "  'boy-11',\n",
              "  'boy-6',\n",
              "  'boy-7',\n",
              "  'boy-5'],\n",
              " 'girl-14': ['boy-12',\n",
              "  'boy-6',\n",
              "  'boy-5',\n",
              "  'boy-8',\n",
              "  'boy-2',\n",
              "  'boy-7',\n",
              "  'boy-3',\n",
              "  'boy-10',\n",
              "  'boy-15',\n",
              "  'boy-13',\n",
              "  'boy-9',\n",
              "  'boy-1',\n",
              "  'boy-4',\n",
              "  'boy-11',\n",
              "  'boy-14'],\n",
              " 'girl-15': ['boy-1',\n",
              "  'boy-15',\n",
              "  'boy-14',\n",
              "  'boy-4',\n",
              "  'boy-8',\n",
              "  'boy-3',\n",
              "  'boy-13',\n",
              "  'boy-11',\n",
              "  'boy-10',\n",
              "  'boy-5',\n",
              "  'boy-9',\n",
              "  'boy-6',\n",
              "  'boy-7',\n",
              "  'boy-12',\n",
              "  'boy-2']}"
            ]
          },
          "metadata": {},
          "execution_count": 684
        }
      ]
    },
    {
      "cell_type": "code",
      "source": [
        "matches.clear()\n",
        "reset_match_status(boys_preference,girls_preference,boys_status,girls_status)\n",
        "gale_shapely1(boys_preference,girls_preference,boys_status,girls_status,matches)"
      ],
      "metadata": {
        "id": "W2m9v5sWn1cS"
      },
      "execution_count": 685,
      "outputs": []
    },
    {
      "cell_type": "code",
      "source": [
        "matches"
      ],
      "metadata": {
        "colab": {
          "base_uri": "https://localhost:8080/"
        },
        "id": "7P46uFZin1Ya",
        "outputId": "bca84fe7-044b-41ac-e129-a55ded385331"
      },
      "execution_count": 686,
      "outputs": [
        {
          "output_type": "execute_result",
          "data": {
            "text/plain": [
              "{'girl-11': 'boy-6',\n",
              " 'girl-3': 'boy-9',\n",
              " 'girl-2': 'boy-5',\n",
              " 'girl-9': 'boy-3',\n",
              " 'girl-8': 'boy-15',\n",
              " 'girl-1': 'boy-7',\n",
              " 'girl-13': 'boy-13',\n",
              " 'girl-12': 'boy-10',\n",
              " 'girl-15': 'boy-1',\n",
              " 'girl-5': 'boy-14',\n",
              " 'girl-6': 'boy-11',\n",
              " 'girl-10': 'boy-8',\n",
              " 'girl-7': 'boy-2',\n",
              " 'girl-4': 'boy-4',\n",
              " 'girl-14': 'boy-12'}"
            ]
          },
          "metadata": {},
          "execution_count": 686
        }
      ]
    },
    {
      "cell_type": "code",
      "source": [
        "v = index_finder(matches['girl-1'],zz) + 1"
      ],
      "metadata": {
        "id": "3wsCQIeIyKBp"
      },
      "execution_count": 687,
      "outputs": []
    },
    {
      "cell_type": "code",
      "source": [
        "v"
      ],
      "metadata": {
        "colab": {
          "base_uri": "https://localhost:8080/"
        },
        "id": "wAQXhZnHyJ--",
        "outputId": "c67497a6-10ea-4cbd-9502-8694df0c6677"
      },
      "execution_count": 688,
      "outputs": [
        {
          "output_type": "execute_result",
          "data": {
            "text/plain": [
              "7"
            ]
          },
          "metadata": {},
          "execution_count": 688
        }
      ]
    },
    {
      "cell_type": "code",
      "source": [],
      "metadata": {
        "id": "FonXJ0oYddWY"
      },
      "execution_count": null,
      "outputs": []
    },
    {
      "cell_type": "code",
      "source": [],
      "metadata": {
        "id": "4CmD7D8cddUJ"
      },
      "execution_count": null,
      "outputs": []
    },
    {
      "cell_type": "code",
      "source": [],
      "metadata": {
        "id": "YDY0ef3yddRA"
      },
      "execution_count": null,
      "outputs": []
    }
  ],
  "metadata": {
    "colab": {
      "provenance": []
    },
    "kernelspec": {
      "display_name": "Python 3",
      "language": "python",
      "name": "python3"
    },
    "language_info": {
      "codemirror_mode": {
        "name": "ipython",
        "version": 3
      },
      "file_extension": ".py",
      "mimetype": "text/x-python",
      "name": "python",
      "nbconvert_exporter": "python",
      "pygments_lexer": "ipython3",
      "version": "3.7.7"
    }
  },
  "nbformat": 4,
  "nbformat_minor": 0
}