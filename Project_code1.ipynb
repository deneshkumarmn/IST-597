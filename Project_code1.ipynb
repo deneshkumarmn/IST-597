{
  "cells": [
    {
      "cell_type": "code",
      "execution_count": 17,
      "metadata": {
        "id": "x8VWzEpY3pnZ"
      },
      "outputs": [],
      "source": [
        "import numpy as np\n",
        "import random\n",
        "from random import sample"
      ]
    },
    {
      "cell_type": "code",
      "execution_count": 18,
      "metadata": {
        "id": "6EqdWEpj3pna"
      },
      "outputs": [],
      "source": [
        "def preference_list(gender,opp_gender,n):\n",
        "    opp_gender_list=[]\n",
        "    gender_list=[]\n",
        "    gender_match={}\n",
        "    for i in range(1,n+1):\n",
        "        opp_gender_list.append(opp_gender+'-'+str(i))\n",
        "        gender_list.append(gender+'-'+str(i))\n",
        "    for i in gender_list:\n",
        "        shuffle=random.sample(opp_gender_list,n)\n",
        "        gender_match[i]=shuffle\n",
        "    return gender_match\n",
        "\n"
      ]
    },
    {
      "cell_type": "code",
      "execution_count": 19,
      "metadata": {
        "id": "cBA4jrCs3pne"
      },
      "outputs": [],
      "source": [
        "def index_finder(a,arr):\n",
        "    for i in range(len(arr)):\n",
        "        if arr[i]==a:\n",
        "            return i\n",
        "        else:\n",
        "            continue"
      ]
    },
    {
      "cell_type": "code",
      "execution_count": 6,
      "metadata": {
        "id": "Q4NmAK4H3pne"
      },
      "outputs": [],
      "source": [
        "def gale_shapely(boys_preference,girls_preference,boys_status,girls_status,matches): \n",
        "  while len(matches)<len(boys_preference):\n",
        "    for i in boys_preference:\n",
        "        if boys_status[i]=='Unmatched':\n",
        "            boys_list=boys_preference[i]\n",
        "            for j in boys_list:\n",
        "                if girls_status[j]=='Unmatched':\n",
        "                    matches[j]=i\n",
        "                    boys_status[i]='Matched'\n",
        "                    girls_status[j]='Matched'\n",
        "                    break\n",
        "                else:\n",
        "                    if index_finder(matches[j],girls_preference[j])>index_finder(i,girls_preference[j]):\n",
        "                        boys_status[matches[j]]='Unmatched'\n",
        "                        boys_status[i]='Matched'\n",
        "                        matches[j]=i\n",
        "                        break\n",
        "                        \n",
        "        else:\n",
        "            continue\n",
        "                "
      ]
    },
    {
      "cell_type": "code",
      "source": [
        "#Input the value for number of men and women to generate preference \n",
        "boys_preference = preference_list('boy','girl',5)\n",
        "girls_preference = preference_list('girl','boy',5)\n",
        "matches={}\n",
        "\n"
      ],
      "metadata": {
        "id": "1fNWKyK67D6J"
      },
      "execution_count": 20,
      "outputs": []
    },
    {
      "cell_type": "code",
      "source": [
        "# Assign everyone is unmatched before the begining of algorithem  \n",
        "boys_status={}\n",
        "girls_status={}\n",
        "for i in boys_preference:\n",
        "  boys_status[i]='Unmatched'\n",
        "for i in girls_preference:\n",
        "  girls_status[i]='Unmatched'"
      ],
      "metadata": {
        "id": "2XVNZlcK930V"
      },
      "execution_count": 21,
      "outputs": []
    },
    {
      "cell_type": "code",
      "source": [
        "#Function call \n",
        "gale_shapely(boys_preference,girls_preference,boys_status,girls_status,matches)"
      ],
      "metadata": {
        "id": "c2FNuia59Rwk"
      },
      "execution_count": 22,
      "outputs": []
    },
    {
      "cell_type": "code",
      "source": [
        "print(\"Boys preference\")\n",
        "boys_preference\n"
      ],
      "metadata": {
        "colab": {
          "base_uri": "https://localhost:8080/"
        },
        "id": "C6thOJL0AOOZ",
        "outputId": "5987179a-8e80-4690-f5d2-3c759d0b539c"
      },
      "execution_count": 23,
      "outputs": [
        {
          "output_type": "stream",
          "name": "stdout",
          "text": [
            "Boys preference\n"
          ]
        },
        {
          "output_type": "execute_result",
          "data": {
            "text/plain": [
              "{'boy-1': ['girl-5', 'girl-4', 'girl-3', 'girl-2', 'girl-1'],\n",
              " 'boy-2': ['girl-4', 'girl-2', 'girl-5', 'girl-3', 'girl-1'],\n",
              " 'boy-3': ['girl-3', 'girl-1', 'girl-2', 'girl-5', 'girl-4'],\n",
              " 'boy-4': ['girl-2', 'girl-1', 'girl-4', 'girl-3', 'girl-5'],\n",
              " 'boy-5': ['girl-3', 'girl-2', 'girl-5', 'girl-4', 'girl-1']}"
            ]
          },
          "metadata": {},
          "execution_count": 23
        }
      ]
    },
    {
      "cell_type": "code",
      "source": [
        "print(\"Girls preference\")\n",
        "girls_preference\n"
      ],
      "metadata": {
        "colab": {
          "base_uri": "https://localhost:8080/"
        },
        "id": "KoJI4YYnCS2x",
        "outputId": "11c702f6-9793-4a88-82d6-05923d50d2a4"
      },
      "execution_count": 24,
      "outputs": [
        {
          "output_type": "stream",
          "name": "stdout",
          "text": [
            "Girls preference\n"
          ]
        },
        {
          "output_type": "execute_result",
          "data": {
            "text/plain": [
              "{'girl-1': ['boy-2', 'boy-3', 'boy-5', 'boy-4', 'boy-1'],\n",
              " 'girl-2': ['boy-4', 'boy-2', 'boy-3', 'boy-1', 'boy-5'],\n",
              " 'girl-3': ['boy-2', 'boy-5', 'boy-3', 'boy-1', 'boy-4'],\n",
              " 'girl-4': ['boy-5', 'boy-1', 'boy-4', 'boy-3', 'boy-2'],\n",
              " 'girl-5': ['boy-5', 'boy-4', 'boy-2', 'boy-1', 'boy-3']}"
            ]
          },
          "metadata": {},
          "execution_count": 24
        }
      ]
    },
    {
      "cell_type": "code",
      "execution_count": 26,
      "metadata": {
        "colab": {
          "base_uri": "https://localhost:8080/"
        },
        "id": "x0-73kJL3pnf",
        "outputId": "6c16f1a0-2643-4046-cfec-0beff5b3eeb2"
      },
      "outputs": [
        {
          "output_type": "stream",
          "name": "stdout",
          "text": [
            "{'girl-1': 'boy-3', 'girl-2': 'boy-4', 'girl-3': 'boy-5', 'girl-4': 'boy-2', 'girl-5': 'boy-1'}\n"
          ]
        }
      ],
      "source": [
        "#Final Matching\n",
        "matches_men_to_women = dict(sorted(matches.items()))\n",
        "print(matches_men_to_women)"
      ]
    },
    {
      "cell_type": "code",
      "source": [
        "#women proposing to men"
      ],
      "metadata": {
        "id": "rVmlrZitRAty"
      },
      "execution_count": null,
      "outputs": []
    },
    {
      "cell_type": "code",
      "source": [
        "matches.clear()"
      ],
      "metadata": {
        "id": "iQx03UpdRpqi"
      },
      "execution_count": 27,
      "outputs": []
    },
    {
      "cell_type": "code",
      "source": [
        "# Assign everyone is unmatched before the begining of algorithem  \n",
        "boys_status.clear()\n",
        "girls_status.clear()\n",
        "for i in boys_preference:\n",
        "  boys_status[i]='Unmatched'\n",
        "for i in girls_preference:\n",
        "  girls_status[i]='Unmatched'"
      ],
      "metadata": {
        "id": "_Y0nxvHhRArc"
      },
      "execution_count": 28,
      "outputs": []
    },
    {
      "cell_type": "code",
      "source": [
        "gale_shapely(girls_preference,boys_preference,girls_status,boys_status,matches)"
      ],
      "metadata": {
        "id": "vtIvrbeeRAol"
      },
      "execution_count": 29,
      "outputs": []
    },
    {
      "cell_type": "code",
      "source": [
        "#Final Matching\n",
        "matches_women_to_men = dict(sorted(matches.items()))\n",
        "print(matches_women_to_men)"
      ],
      "metadata": {
        "colab": {
          "base_uri": "https://localhost:8080/"
        },
        "id": "oaCAKBvDRAmR",
        "outputId": "551014b0-9ba6-4f61-8e15-a3d31957c746"
      },
      "execution_count": 30,
      "outputs": [
        {
          "output_type": "stream",
          "name": "stdout",
          "text": [
            "{'boy-1': 'girl-4', 'boy-2': 'girl-3', 'boy-3': 'girl-1', 'boy-4': 'girl-2', 'boy-5': 'girl-5'}\n"
          ]
        }
      ]
    },
    {
      "cell_type": "code",
      "source": [],
      "metadata": {
        "id": "MfbLiRTxRAiD"
      },
      "execution_count": null,
      "outputs": []
    },
    {
      "cell_type": "code",
      "source": [],
      "metadata": {
        "id": "W5qCMKF-RAfg"
      },
      "execution_count": null,
      "outputs": []
    }
  ],
  "metadata": {
    "kernelspec": {
      "display_name": "Python 3",
      "language": "python",
      "name": "python3"
    },
    "language_info": {
      "codemirror_mode": {
        "name": "ipython",
        "version": 3
      },
      "file_extension": ".py",
      "mimetype": "text/x-python",
      "name": "python",
      "nbconvert_exporter": "python",
      "pygments_lexer": "ipython3",
      "version": "3.7.7"
    },
    "colab": {
      "provenance": [],
      "collapsed_sections": []
    }
  },
  "nbformat": 4,
  "nbformat_minor": 0
}