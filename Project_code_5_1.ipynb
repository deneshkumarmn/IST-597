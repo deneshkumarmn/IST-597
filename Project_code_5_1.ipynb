{
  "cells": [
    {
      "cell_type": "code",
      "execution_count": 1,
      "metadata": {
        "id": "x8VWzEpY3pnZ"
      },
      "outputs": [],
      "source": [
        "import numpy as np\n",
        "import random\n",
        "from random import sample"
      ]
    },
    {
      "cell_type": "code",
      "execution_count": 2,
      "metadata": {
        "id": "6EqdWEpj3pna"
      },
      "outputs": [],
      "source": [
        "#Generate preference list Men and Women \n",
        "def preference_list(gender,opp_gender,n):\n",
        "    opp_gender_list=[]\n",
        "    gender_list=[]\n",
        "    gender_match={}\n",
        "    for i in range(1,n+1):\n",
        "        opp_gender_list.append(opp_gender+'-'+str(i))\n",
        "        gender_list.append(gender+'-'+str(i))\n",
        "    for i in gender_list:\n",
        "        shuffle=random.sample(opp_gender_list,n)\n",
        "        gender_match[i]=shuffle\n",
        "    return gender_match\n",
        "\n"
      ]
    },
    {
      "cell_type": "code",
      "execution_count": 3,
      "metadata": {
        "id": "cBA4jrCs3pne"
      },
      "outputs": [],
      "source": [
        "#Finds the index of the partucular preference \n",
        "def index_finder(a,arr):\n",
        "    for i in range(len(arr)):\n",
        "        if arr[i]==a:\n",
        "            return i\n",
        "        else:\n",
        "            continue"
      ]
    },
    {
      "cell_type": "code",
      "source": [
        "#Finds the index of girls-1 match in women propose to men in womens preference\n",
        "def index_finder1(matches_women_to_men):\n",
        "  temp = []\n",
        "  temp.clear()\n",
        "  for i in boys_preference:\n",
        "    temp.append(i)\n",
        "  for i in range(len(temp)):\n",
        "    if(matches_women_to_men[temp[i]] == 'girl-1'):\n",
        "      paired = temp[i]\n",
        "    else:\n",
        "      continue\n",
        "  return(index_finder(paired,girls_preference['girl-1']))"
      ],
      "metadata": {
        "id": "vTNY-ktTy8LD"
      },
      "execution_count": 4,
      "outputs": []
    },
    {
      "cell_type": "code",
      "source": [
        "#Change preference of manipulating girl \n",
        "def change_preference(boys_preference,girls_preference):\n",
        "  temp = []\n",
        "  temp.clear()\n",
        "  for i in boys_preference:\n",
        "    temp.append(i)\n",
        "  girls_preference['girl-1'] = temp"
      ],
      "metadata": {
        "id": "QXAgNqdDc_G5"
      },
      "execution_count": 5,
      "outputs": []
    },
    {
      "cell_type": "code",
      "execution_count": 6,
      "metadata": {
        "id": "2XVNZlcK930V"
      },
      "outputs": [],
      "source": [
        "# Assign everyone is unmatched before the begining of algorithem \n",
        "def reset_match_status(boys_preference,girls_preference,boys_status,girls_status):\n",
        "  boys_status.clear()\n",
        "  girls_status.clear()\n",
        "  for i in boys_preference:\n",
        "    boys_status[i]='Unmatched'\n",
        "  for i in girls_preference:\n",
        "    girls_status[i]='Unmatched'"
      ]
    },
    {
      "cell_type": "code",
      "source": [
        "#compute all permutation of the preference of manipulating girl \n",
        "def all_permutation(girls_preference):\n",
        "  col=[]\n",
        "  col.clear()\n",
        "  from itertools import permutations\n",
        "  col = list(permutations(girls_preference['girl-1']))\n",
        "  return col"
      ],
      "metadata": {
        "id": "zlM56tod8SB4"
      },
      "execution_count": 7,
      "outputs": []
    },
    {
      "cell_type": "code",
      "source": [
        "#The optimal preference for the manipulating girl  \n",
        "def optimal_manipulation(index_women_propose_to_men,girls_preference):\n",
        "  m=index_women_propose_to_men\n",
        "  col=[]\n",
        "  col.clear()\n",
        "  arr=girls_preference['girl-1']\n",
        "  for i in range(m,len(arr)):\n",
        "    a=list(arr)\n",
        "    b=a.pop(i)\n",
        "    for j in range(0,i-1):\n",
        "          new=a[:m+j]+[b]+a[m+j:]\n",
        "          if new not in col:\n",
        "            col.append(new)\n",
        "  return col"
      ],
      "metadata": {
        "id": "dpgFS0PHCvMM"
      },
      "execution_count": 8,
      "outputs": []
    },
    {
      "cell_type": "code",
      "source": [
        "def result(boys_preference,girls_preference,matches_men_to_women,counter,first_Iteration_matches,a,final_girl_proposed,matches_women_to_men,index_men_propose_to_women,index_women_propose_to_men,b,best_preference_order,best_match_index,c):\n",
        "  print(\"Boys preference\")\n",
        "  print(boys_preference)\n",
        "  print(\"Girls preference\")\n",
        "  print(girls_preference)\n",
        "  print(\"Matches M-W\")\n",
        "  print(matches_men_to_women)\n",
        "  print(\"No of iterations\")\n",
        "  print(counter)\n",
        "  print(\"Matches in First iteration\")\n",
        "  print(first_Iteration_matches)\n",
        "  print(\"Is Manipulating girl in first iteration\")\n",
        "  print(a)\n",
        "  print(\"Order of proposal to manipulating girl\")\n",
        "  print(final_girl_proposed['girl-1'])\n",
        "  print(\"Matches W-M\")\n",
        "  print(matches_women_to_men)\n",
        "  print(\"Manipulating girl achieved M-W\")\n",
        "  print(index_men_propose_to_women)\n",
        "  print(\"Manipulating girl achieved W-M\")\n",
        "  print(index_women_propose_to_men)\n",
        "  print(\"Is it already optimal\")\n",
        "  print(b)\n",
        "  print(\"Best acheievalble optimistic preference\")\n",
        "  print(best_preference_order)\n",
        "  print(\"Best achieved index\")\n",
        "  print(best_match_index)\n",
        "  print(\"Has result improved\")\n",
        "  print(c)\n",
        "  print(\"!!!!!!!!!!!!!!!!!!!!!!!!!!!!!!!!!!!!!!!!!!!!!\")"
      ],
      "metadata": {
        "id": "EqZkGuQFuy7P"
      },
      "execution_count": 9,
      "outputs": []
    },
    {
      "cell_type": "code",
      "source": [
        "#Find the best preference list from all the preferences\n",
        "def best_preference(index_men_propose_to_women,boys_preference,girls_preference,boys_status,girls_status,col,matches):\n",
        "  best_match_index = index_men_propose_to_women\n",
        "  best_preference_order = girls_preference['girl-1']\n",
        "  zz = girls_preference['girl-1']\n",
        "  for i in range(len(col)):\n",
        "    girls_preference['girl-1'] = col[i]\n",
        "    matches.clear()\n",
        "    reset_match_status(boys_preference,girls_preference,boys_status,girls_status)\n",
        "    gale_shapely1(boys_preference,girls_preference,boys_status,girls_status,matches)\n",
        "    _index = index_finder(matches['girl-1'],zz) + 1\n",
        "    if _index < best_match_index:\n",
        "      print(\"Look here for best result\")\n",
        "      print(_index)\n",
        "      best_match_index = _index\n",
        "      best_preference_order = col[i]\n",
        "      print(best_preference_order)\n",
        "    else:\n",
        "      continue\n",
        "  return [best_preference_order,best_match_index] \n",
        "\n",
        "\n",
        "\n",
        "\n",
        "\n",
        "\n"
      ],
      "metadata": {
        "id": "TERnNAPNCvEq"
      },
      "execution_count": 10,
      "outputs": []
    },
    {
      "cell_type": "code",
      "execution_count": 11,
      "metadata": {
        "id": "Q4NmAK4H3pne"
      },
      "outputs": [],
      "source": [
        "#Gale shapely algorithm implementation \n",
        "def gale_shapely(boys_preference,girls_preference,boys_status,girls_status,matches,girls_proposed1,girls_proposed2):\n",
        "  counter=0\n",
        "  all_matches=[]\n",
        "  while len(matches)<len(boys_preference):\n",
        "    all_matches.append(dict(matches))\n",
        "    counter+=1\n",
        "    for i in boys_preference:\n",
        "        if boys_status[i]=='Unmatched':\n",
        "            boys_list=boys_preference[i]\n",
        "            for j in boys_list:\n",
        "                if girls_status[j]=='Unmatched':\n",
        "                    matches[j]=i\n",
        "                    boys_status[i]='Matched'\n",
        "                    girls_status[j]='Matched'\n",
        "                    girls_proposed1[j].append(i)\n",
        "                    girls_proposed2[j].append(\"Yes\")\n",
        "                    break\n",
        "                else:\n",
        "                    if index_finder(matches[j],girls_preference[j])<index_finder(i,girls_preference[j]):\n",
        "                        girls_proposed1[j].append(i)\n",
        "                        girls_proposed2[j].append(\"No\")\n",
        "                    elif index_finder(matches[j],girls_preference[j])>index_finder(i,girls_preference[j]):\n",
        "                        boys_status[matches[j]]='Unmatched'\n",
        "                        boys_status[i]='Matched'\n",
        "                        matches[j]=i\n",
        "                        girls_proposed1[j].append(i)\n",
        "                        girls_proposed2[j].append(\"Yes\")\n",
        "                        break\n",
        "                        \n",
        "        else:\n",
        "            continue\n",
        "  \n",
        "  all_matches.append(dict(matches))\n",
        "  if 'girl-1' in all_matches[1]:\n",
        "     return [matches,counter,all_matches[1],\"Yes\",girls_proposed1,girls_proposed2]\n",
        "  else:\n",
        "     return [matches,counter,all_matches[1],\"No\",girls_proposed1,girls_proposed2]\n",
        "                "
      ]
    },
    {
      "cell_type": "code",
      "source": [
        "#Gale shapely algorithem \n",
        "def gale_shapely1(boys_preference,girls_preference,boys_status,girls_status,matches): \n",
        "  while len(matches)<len(boys_preference):\n",
        "    for i in boys_preference:\n",
        "        if boys_status[i]=='Unmatched':\n",
        "            boys_list=boys_preference[i]\n",
        "            for j in boys_list:\n",
        "                if girls_status[j]=='Unmatched':\n",
        "                    matches[j]=i\n",
        "                    boys_status[i]='Matched'\n",
        "                    girls_status[j]='Matched'\n",
        "                    break\n",
        "                else:\n",
        "                    if index_finder(matches[j],girls_preference[j])>index_finder(i,girls_preference[j]):\n",
        "                        boys_status[matches[j]]='Unmatched'\n",
        "                        boys_status[i]='Matched'\n",
        "                        matches[j]=i\n",
        "                        break\n",
        "                        \n",
        "        else:\n",
        "            continue\n",
        "                "
      ],
      "metadata": {
        "id": "bnabTI3rUUSl"
      },
      "execution_count": 12,
      "outputs": []
    },
    {
      "cell_type": "code",
      "execution_count": 15,
      "metadata": {
        "id": "1fNWKyK67D6J",
        "colab": {
          "base_uri": "https://localhost:8080/"
        },
        "outputId": "07952f96-729c-42f8-dac6-bff87591be2a"
      },
      "outputs": [
        {
          "output_type": "stream",
          "name": "stdout",
          "text": [
            "Boys preference\n",
            "{'boy-1': ['girl-5', 'girl-6', 'girl-2', 'girl-7', 'girl-3', 'girl-1', 'girl-4'], 'boy-2': ['girl-1', 'girl-6', 'girl-5', 'girl-2', 'girl-4', 'girl-7', 'girl-3'], 'boy-3': ['girl-7', 'girl-2', 'girl-3', 'girl-6', 'girl-4', 'girl-1', 'girl-5'], 'boy-4': ['girl-1', 'girl-3', 'girl-7', 'girl-4', 'girl-2', 'girl-5', 'girl-6'], 'boy-5': ['girl-2', 'girl-6', 'girl-3', 'girl-7', 'girl-1', 'girl-4', 'girl-5'], 'boy-6': ['girl-5', 'girl-4', 'girl-7', 'girl-6', 'girl-2', 'girl-1', 'girl-3'], 'boy-7': ['girl-7', 'girl-1', 'girl-5', 'girl-6', 'girl-3', 'girl-2', 'girl-4']}\n",
            "Girls preference\n",
            "{'girl-1': ['boy-1', 'boy-2', 'boy-3', 'boy-4', 'boy-5', 'boy-7', 'boy-6'], 'girl-2': ['boy-6', 'boy-3', 'boy-2', 'boy-1', 'boy-5', 'boy-4', 'boy-7'], 'girl-3': ['boy-6', 'boy-3', 'boy-5', 'boy-4', 'boy-1', 'boy-7', 'boy-2'], 'girl-4': ['boy-4', 'boy-7', 'boy-2', 'boy-3', 'boy-5', 'boy-1', 'boy-6'], 'girl-5': ['boy-6', 'boy-1', 'boy-4', 'boy-5', 'boy-2', 'boy-3', 'boy-7'], 'girl-6': ['boy-1', 'boy-5', 'boy-3', 'boy-7', 'boy-4', 'boy-6', 'boy-2'], 'girl-7': ['boy-5', 'boy-7', 'boy-6', 'boy-4', 'boy-3', 'boy-2', 'boy-1']}\n",
            "Matches M-W\n",
            "{'girl-1': 'boy-2', 'girl-2': 'boy-3', 'girl-3': 'boy-5', 'girl-4': 'boy-4', 'girl-5': 'boy-6', 'girl-6': 'boy-1', 'girl-7': 'boy-7'}\n",
            "No of iterations\n",
            "3\n",
            "Matches in First iteration\n",
            "{'girl-1': 'boy-2', 'girl-2': 'boy-5', 'girl-3': 'boy-4', 'girl-5': 'boy-6', 'girl-7': 'boy-7'}\n",
            "Is Manipulating girl in first iteration\n",
            "Yes\n",
            "Order of proposal to manipulating girl\n",
            "[('boy-2', 'Yes'), ('boy-4', 'No')]\n",
            "Matches W-M\n",
            "{'boy-1': 'girl-6', 'boy-2': 'girl-1', 'boy-3': 'girl-2', 'boy-4': 'girl-4', 'boy-5': 'girl-3', 'boy-6': 'girl-5', 'boy-7': 'girl-7'}\n",
            "Manipulating girl achieved M-W\n",
            "2\n",
            "Manipulating girl achieved W-M\n",
            "2\n",
            "Is it already optimal\n",
            "Yes\n",
            "Best acheievalble optimistic preference\n",
            "['boy-1', 'boy-2', 'boy-3', 'boy-4', 'boy-5', 'boy-6', 'boy-7']\n",
            "Best achieved index\n",
            "2\n",
            "Has result improved\n",
            "No\n",
            "!!!!!!!!!!!!!!!!!!!!!!!!!!!!!!!!!!!!!!!!!!!!!\n"
          ]
        }
      ],
      "source": [
        "#Input the value for number of men and women to generate preference \n",
        "for i in range(1):\n",
        "  boys_preference = preference_list('boy','girl',7)\n",
        "  girls_preference = preference_list('girl','boy',7)\n",
        "  matches={}\n",
        "  boys_status={}\n",
        "  girls_status={}\n",
        "  change_preference(boys_preference,girls_preference)\n",
        "  reset_match_status(boys_preference,girls_preference,boys_status,girls_status)\n",
        "  girls_proposed1 = {new_list: [] for new_list in girls_preference}\n",
        "  girls_proposed2 = {new_list: [] for new_list in girls_preference}\n",
        "  matches,counter,first_Iteration_matches,a,girls_proposed1,girls_proposed2 = gale_shapely(boys_preference,girls_preference,boys_status,girls_status,matches,girls_proposed1,girls_proposed2)\n",
        "  first_Iteration_matches = dict(sorted(first_Iteration_matches.items()))\n",
        "  for i in girls_proposed1:\n",
        "      empty=[]\n",
        "      for j,k in enumerate(girls_proposed1[i]):\n",
        "          if k not in empty:\n",
        "              empty.append(k)\n",
        "          else:           \n",
        "              girls_proposed1[i].pop(j)\n",
        "              girls_proposed2[i].pop(j)\n",
        "  final_girl_proposed = {new_list: [] for new_list in girls_preference}\n",
        "  for i in final_girl_proposed:\n",
        "      final_girl_proposed[i]=list(zip(girls_proposed1[i],girls_proposed2[i]))\n",
        "  matches_men_to_women = dict(sorted(matches.items()))\n",
        "  matches.clear()\n",
        "  reset_match_status(boys_preference,girls_preference,boys_status,girls_status)\n",
        "  gale_shapely1(girls_preference,boys_preference,girls_status,boys_status,matches)\n",
        "  matches_women_to_men = dict(sorted(matches.items()))\n",
        "  index_men_propose_to_women = index_finder(matches_men_to_women['girl-1'],girls_preference['girl-1']) + 1\n",
        "  index_women_propose_to_men = index_finder1(matches_women_to_men) + 1 \n",
        "  if index_men_propose_to_women == index_women_propose_to_men:\n",
        "    b = \"Yes\"\n",
        "  else:\n",
        "    b = \"No\"\n",
        "  #col = all_permutation(girls_preference)\n",
        "  col = optimal_manipulation(index_women_propose_to_men,girls_preference)\n",
        "  best_preference_order,best_match_index = best_preference(index_men_propose_to_women,boys_preference,girls_preference,boys_status,girls_status,col,matches)\n",
        "  if best_match_index < index_men_propose_to_women:\n",
        "    c = \"Yes\"\n",
        "  else:\n",
        "    c = \"No\"\n",
        "  result(boys_preference,girls_preference,matches_men_to_women,counter,first_Iteration_matches,a,final_girl_proposed,matches_women_to_men,index_men_propose_to_women,index_women_propose_to_men,b,best_preference_order,best_match_index,c)\n"
      ]
    },
    {
      "cell_type": "code",
      "source": [],
      "metadata": {
        "id": "FonXJ0oYddWY"
      },
      "execution_count": null,
      "outputs": []
    },
    {
      "cell_type": "code",
      "source": [],
      "metadata": {
        "id": "4CmD7D8cddUJ"
      },
      "execution_count": null,
      "outputs": []
    },
    {
      "cell_type": "code",
      "source": [],
      "metadata": {
        "id": "YDY0ef3yddRA"
      },
      "execution_count": null,
      "outputs": []
    }
  ],
  "metadata": {
    "colab": {
      "provenance": []
    },
    "kernelspec": {
      "display_name": "Python 3",
      "language": "python",
      "name": "python3"
    },
    "language_info": {
      "codemirror_mode": {
        "name": "ipython",
        "version": 3
      },
      "file_extension": ".py",
      "mimetype": "text/x-python",
      "name": "python",
      "nbconvert_exporter": "python",
      "pygments_lexer": "ipython3",
      "version": "3.7.7"
    }
  },
  "nbformat": 4,
  "nbformat_minor": 0
}