{
  "cells": [
    {
      "cell_type": "code",
      "execution_count": 85,
      "metadata": {
        "id": "x8VWzEpY3pnZ"
      },
      "outputs": [],
      "source": [
        "import numpy as np\n",
        "import random\n",
        "from random import sample"
      ]
    },
    {
      "cell_type": "code",
      "source": [
        "#Generate preference list Men and Women "
      ],
      "metadata": {
        "id": "AeUPk9BgTveP"
      },
      "execution_count": null,
      "outputs": []
    },
    {
      "cell_type": "code",
      "execution_count": 86,
      "metadata": {
        "id": "6EqdWEpj3pna"
      },
      "outputs": [],
      "source": [
        "def preference_list(gender,opp_gender,n):\n",
        "    opp_gender_list=[]\n",
        "    gender_list=[]\n",
        "    gender_match={}\n",
        "    for i in range(1,n+1):\n",
        "        opp_gender_list.append(opp_gender+'-'+str(i))\n",
        "        gender_list.append(gender+'-'+str(i))\n",
        "    for i in gender_list:\n",
        "        shuffle=random.sample(opp_gender_list,n)\n",
        "        gender_match[i]=shuffle\n",
        "    return gender_match\n",
        "\n"
      ]
    },
    {
      "cell_type": "code",
      "source": [
        "#Finds the index of the partucular preference "
      ],
      "metadata": {
        "id": "uLcF3UEIT6J0"
      },
      "execution_count": null,
      "outputs": []
    },
    {
      "cell_type": "code",
      "execution_count": 87,
      "metadata": {
        "id": "cBA4jrCs3pne"
      },
      "outputs": [],
      "source": [
        "def index_finder(a,arr):\n",
        "    for i in range(len(arr)):\n",
        "        if arr[i]==a:\n",
        "            return i\n",
        "        else:\n",
        "            continue"
      ]
    },
    {
      "cell_type": "code",
      "source": [
        "#Gale shapely algorithm implementation "
      ],
      "metadata": {
        "id": "p09I-Ag4UFxW"
      },
      "execution_count": null,
      "outputs": []
    },
    {
      "cell_type": "code",
      "execution_count": 88,
      "metadata": {
        "id": "Q4NmAK4H3pne"
      },
      "outputs": [],
      "source": [
        "def gale_shapely(boys_preference,girls_preference,boys_status,girls_status,matches,girls_proposed1,girls_proposed2):\n",
        "  counter=0\n",
        "  all_matches=[]\n",
        "  while len(matches)<len(boys_preference):\n",
        "    all_matches.append(dict(matches))\n",
        "    counter+=1\n",
        "    for i in boys_preference:\n",
        "        if boys_status[i]=='Unmatched':\n",
        "            boys_list=boys_preference[i]\n",
        "            for j in boys_list:\n",
        "                if girls_status[j]=='Unmatched':\n",
        "                    matches[j]=i\n",
        "                    boys_status[i]='Matched'\n",
        "                    girls_status[j]='Matched'\n",
        "                    girls_proposed1[j].append(i)\n",
        "                    girls_proposed2[j].append(\"Yes\")\n",
        "                    break\n",
        "                else:\n",
        "                    if index_finder(matches[j],girls_preference[j])<index_finder(i,girls_preference[j]):\n",
        "                        girls_proposed1[j].append(i)\n",
        "                        girls_proposed2[j].append(\"No\")\n",
        "                    elif index_finder(matches[j],girls_preference[j])>index_finder(i,girls_preference[j]):\n",
        "                        boys_status[matches[j]]='Unmatched'\n",
        "                        boys_status[i]='Matched'\n",
        "                        matches[j]=i\n",
        "                        girls_proposed1[j].append(i)\n",
        "                        girls_proposed2[j].append(\"Yes\")\n",
        "                        break\n",
        "                        \n",
        "        else:\n",
        "            continue\n",
        "  all_matches.append(dict(matches))\n",
        "  if 'girl-1' in all_matches[1]:\n",
        "     return [matches,counter,all_matches[1],\"Yes\",girls_proposed1,girls_proposed2]\n",
        "  else:\n",
        "     return [matches,counter,all_matches[1],\"No\",girls_proposed1,girls_proposed2]\n",
        "                "
      ]
    },
    {
      "cell_type": "code",
      "source": [
        "#Gale shapely algorithem (Finding when Women proposing to Men)"
      ],
      "metadata": {
        "id": "hnK-MgLbUUic"
      },
      "execution_count": null,
      "outputs": []
    },
    {
      "cell_type": "code",
      "source": [
        "def gale_shapely1(boys_preference,girls_preference,boys_status,girls_status,matches): \n",
        "  while len(matches)<len(boys_preference):\n",
        "    for i in boys_preference:\n",
        "        if boys_status[i]=='Unmatched':\n",
        "            boys_list=boys_preference[i]\n",
        "            for j in boys_list:\n",
        "                if girls_status[j]=='Unmatched':\n",
        "                    matches[j]=i\n",
        "                    boys_status[i]='Matched'\n",
        "                    girls_status[j]='Matched'\n",
        "                    break\n",
        "                else:\n",
        "                    if index_finder(matches[j],girls_preference[j])>index_finder(i,girls_preference[j]):\n",
        "                        boys_status[matches[j]]='Unmatched'\n",
        "                        boys_status[i]='Matched'\n",
        "                        matches[j]=i\n",
        "                        break\n",
        "                        \n",
        "        else:\n",
        "            continue\n",
        "                "
      ],
      "metadata": {
        "id": "bnabTI3rUUSl"
      },
      "execution_count": 89,
      "outputs": []
    },
    {
      "cell_type": "code",
      "execution_count": 90,
      "metadata": {
        "id": "1fNWKyK67D6J"
      },
      "outputs": [],
      "source": [
        "#Input the value for number of men and women to generate preference \n",
        "\n",
        "boys_preference = preference_list('boy','girl',7)\n",
        "girls_preference = preference_list('girl','boy',7)\n",
        "matches={}\n"
      ]
    },
    {
      "cell_type": "code",
      "source": [
        "temp = []\n",
        "for i in boys_preference:\n",
        "  temp.append(i)\n",
        "girls_preference['girl-1'] = temp"
      ],
      "metadata": {
        "id": "QXAgNqdDc_G5"
      },
      "execution_count": 91,
      "outputs": []
    },
    {
      "cell_type": "code",
      "execution_count": 92,
      "metadata": {
        "id": "2XVNZlcK930V"
      },
      "outputs": [],
      "source": [
        "# Assign everyone is unmatched before the begining of algorithem  \n",
        "\n",
        "boys_status={}\n",
        "girls_status={}\n",
        "for i in boys_preference:\n",
        "  boys_status[i]='Unmatched'\n",
        "for i in girls_preference:\n",
        "  girls_status[i]='Unmatched'"
      ]
    },
    {
      "cell_type": "code",
      "execution_count": 93,
      "metadata": {
        "colab": {
          "base_uri": "https://localhost:8080/"
        },
        "id": "C6thOJL0AOOZ",
        "outputId": "a360bf1a-749e-4b28-e217-6de0e5a32b74"
      },
      "outputs": [
        {
          "output_type": "stream",
          "name": "stdout",
          "text": [
            "Boys preference\n"
          ]
        },
        {
          "output_type": "execute_result",
          "data": {
            "text/plain": [
              "{'boy-1': ['girl-4',\n",
              "  'girl-3',\n",
              "  'girl-5',\n",
              "  'girl-7',\n",
              "  'girl-6',\n",
              "  'girl-2',\n",
              "  'girl-1'],\n",
              " 'boy-2': ['girl-3',\n",
              "  'girl-2',\n",
              "  'girl-5',\n",
              "  'girl-1',\n",
              "  'girl-7',\n",
              "  'girl-6',\n",
              "  'girl-4'],\n",
              " 'boy-3': ['girl-2',\n",
              "  'girl-6',\n",
              "  'girl-5',\n",
              "  'girl-1',\n",
              "  'girl-7',\n",
              "  'girl-4',\n",
              "  'girl-3'],\n",
              " 'boy-4': ['girl-4',\n",
              "  'girl-3',\n",
              "  'girl-2',\n",
              "  'girl-6',\n",
              "  'girl-1',\n",
              "  'girl-5',\n",
              "  'girl-7'],\n",
              " 'boy-5': ['girl-7',\n",
              "  'girl-1',\n",
              "  'girl-3',\n",
              "  'girl-6',\n",
              "  'girl-5',\n",
              "  'girl-4',\n",
              "  'girl-2'],\n",
              " 'boy-6': ['girl-3',\n",
              "  'girl-1',\n",
              "  'girl-4',\n",
              "  'girl-5',\n",
              "  'girl-7',\n",
              "  'girl-2',\n",
              "  'girl-6'],\n",
              " 'boy-7': ['girl-4',\n",
              "  'girl-3',\n",
              "  'girl-2',\n",
              "  'girl-1',\n",
              "  'girl-5',\n",
              "  'girl-7',\n",
              "  'girl-6']}"
            ]
          },
          "metadata": {},
          "execution_count": 93
        }
      ],
      "source": [
        "print(\"Boys preference\")\n",
        "boys_preference\n"
      ]
    },
    {
      "cell_type": "code",
      "execution_count": 94,
      "metadata": {
        "colab": {
          "base_uri": "https://localhost:8080/"
        },
        "id": "KoJI4YYnCS2x",
        "outputId": "79fb2daf-5b28-4946-835b-5c341294170f"
      },
      "outputs": [
        {
          "output_type": "stream",
          "name": "stdout",
          "text": [
            "Girls preference\n"
          ]
        },
        {
          "output_type": "execute_result",
          "data": {
            "text/plain": [
              "{'girl-1': ['boy-1', 'boy-2', 'boy-3', 'boy-4', 'boy-5', 'boy-6', 'boy-7'],\n",
              " 'girl-2': ['boy-5', 'boy-6', 'boy-4', 'boy-1', 'boy-7', 'boy-3', 'boy-2'],\n",
              " 'girl-3': ['boy-4', 'boy-6', 'boy-3', 'boy-1', 'boy-2', 'boy-5', 'boy-7'],\n",
              " 'girl-4': ['boy-3', 'boy-2', 'boy-5', 'boy-1', 'boy-7', 'boy-4', 'boy-6'],\n",
              " 'girl-5': ['boy-4', 'boy-2', 'boy-6', 'boy-7', 'boy-5', 'boy-3', 'boy-1'],\n",
              " 'girl-6': ['boy-4', 'boy-1', 'boy-7', 'boy-2', 'boy-3', 'boy-5', 'boy-6'],\n",
              " 'girl-7': ['boy-3', 'boy-4', 'boy-6', 'boy-7', 'boy-1', 'boy-2', 'boy-5']}"
            ]
          },
          "metadata": {},
          "execution_count": 94
        }
      ],
      "source": [
        "print(\"Girls preference\")\n",
        "girls_preference\n"
      ]
    },
    {
      "cell_type": "code",
      "execution_count": 95,
      "metadata": {
        "id": "BSLpCfv0rjXb"
      },
      "outputs": [],
      "source": [
        "girls_proposed1 = {new_list: [] for new_list in girls_preference}"
      ]
    },
    {
      "cell_type": "code",
      "execution_count": 96,
      "metadata": {
        "colab": {
          "base_uri": "https://localhost:8080/"
        },
        "id": "j2YwDTWErjXc",
        "outputId": "e2b3a91f-8ce4-4a48-e088-09da3172d84c"
      },
      "outputs": [
        {
          "output_type": "execute_result",
          "data": {
            "text/plain": [
              "{'girl-1': [],\n",
              " 'girl-2': [],\n",
              " 'girl-3': [],\n",
              " 'girl-4': [],\n",
              " 'girl-5': [],\n",
              " 'girl-6': [],\n",
              " 'girl-7': []}"
            ]
          },
          "metadata": {},
          "execution_count": 96
        }
      ],
      "source": [
        "girls_proposed1"
      ]
    },
    {
      "cell_type": "code",
      "execution_count": 97,
      "metadata": {
        "id": "kXDkYdRdrjXc"
      },
      "outputs": [],
      "source": [
        "girls_proposed2 = {new_list: [] for new_list in girls_preference}"
      ]
    },
    {
      "cell_type": "code",
      "execution_count": 98,
      "metadata": {
        "colab": {
          "base_uri": "https://localhost:8080/"
        },
        "id": "ip8qidHfrjXd",
        "outputId": "df32178c-ea55-4e40-dcd3-26bbd3338f1e"
      },
      "outputs": [
        {
          "output_type": "execute_result",
          "data": {
            "text/plain": [
              "{'girl-1': [],\n",
              " 'girl-2': [],\n",
              " 'girl-3': [],\n",
              " 'girl-4': [],\n",
              " 'girl-5': [],\n",
              " 'girl-6': [],\n",
              " 'girl-7': []}"
            ]
          },
          "metadata": {},
          "execution_count": 98
        }
      ],
      "source": [
        "girls_proposed2"
      ]
    },
    {
      "cell_type": "code",
      "source": [
        "#The function call will return 1) The matches ,  2) Total Iterations , 3) Pairs of First Iteration ,  4) Is the manipulating girl predent in first iteration "
      ],
      "metadata": {
        "id": "S0aE25tpdo6O"
      },
      "execution_count": null,
      "outputs": []
    },
    {
      "cell_type": "code",
      "execution_count": 99,
      "metadata": {
        "colab": {
          "base_uri": "https://localhost:8080/"
        },
        "id": "ogClbbi4rjXd",
        "outputId": "c5bf9f37-d246-4cba-c46f-4f11c7577d09"
      },
      "outputs": [
        {
          "output_type": "execute_result",
          "data": {
            "text/plain": [
              "[{'girl-4': 'boy-1',\n",
              "  'girl-3': 'boy-4',\n",
              "  'girl-2': 'boy-7',\n",
              "  'girl-7': 'boy-5',\n",
              "  'girl-1': 'boy-6',\n",
              "  'girl-5': 'boy-2',\n",
              "  'girl-6': 'boy-3'},\n",
              " 2,\n",
              " {'girl-4': 'boy-1',\n",
              "  'girl-3': 'boy-4',\n",
              "  'girl-2': 'boy-7',\n",
              "  'girl-7': 'boy-5',\n",
              "  'girl-1': 'boy-6'},\n",
              " 'Yes',\n",
              " {'girl-1': ['boy-6'],\n",
              "  'girl-2': ['boy-3', 'boy-7', 'boy-2', 'boy-3'],\n",
              "  'girl-3': ['boy-2', 'boy-4', 'boy-6', 'boy-7', 'boy-2'],\n",
              "  'girl-4': ['boy-1', 'boy-4', 'boy-7'],\n",
              "  'girl-5': ['boy-2'],\n",
              "  'girl-6': ['boy-3'],\n",
              "  'girl-7': ['boy-5']},\n",
              " {'girl-1': ['Yes'],\n",
              "  'girl-2': ['Yes', 'Yes', 'No', 'No'],\n",
              "  'girl-3': ['Yes', 'Yes', 'No', 'No', 'No'],\n",
              "  'girl-4': ['Yes', 'No', 'No'],\n",
              "  'girl-5': ['Yes'],\n",
              "  'girl-6': ['Yes'],\n",
              "  'girl-7': ['Yes']}]"
            ]
          },
          "metadata": {},
          "execution_count": 99
        }
      ],
      "source": [
        "#Function call \n",
        "gale_shapely(boys_preference,girls_preference,boys_status,girls_status,matches,girls_proposed1,girls_proposed2)"
      ]
    },
    {
      "cell_type": "code",
      "execution_count": 100,
      "metadata": {
        "colab": {
          "base_uri": "https://localhost:8080/"
        },
        "id": "WPPKiPbirjXe",
        "outputId": "782b0547-7e9e-49c1-e773-7ff8c0affa18"
      },
      "outputs": [
        {
          "output_type": "stream",
          "name": "stdout",
          "text": [
            "3\n",
            "4\n"
          ]
        }
      ],
      "source": [
        "for i in girls_proposed1:\n",
        "    empty=[]\n",
        "    for j,k in enumerate(girls_proposed1[i]):\n",
        "        if k not in empty:\n",
        "            empty.append(k)\n",
        "        else:\n",
        "            print(j)\n",
        "            girls_proposed1[i].pop(j)\n",
        "            girls_proposed2[i].pop(j)\n"
      ]
    },
    {
      "cell_type": "code",
      "execution_count": 101,
      "metadata": {
        "colab": {
          "base_uri": "https://localhost:8080/"
        },
        "id": "iq17D2MfrjXe",
        "outputId": "087217cf-7677-425b-e72d-3a2424b757a4"
      },
      "outputs": [
        {
          "output_type": "execute_result",
          "data": {
            "text/plain": [
              "{'girl-1': ['boy-6'],\n",
              " 'girl-2': ['boy-3', 'boy-7', 'boy-2'],\n",
              " 'girl-3': ['boy-2', 'boy-4', 'boy-6', 'boy-7'],\n",
              " 'girl-4': ['boy-1', 'boy-4', 'boy-7'],\n",
              " 'girl-5': ['boy-2'],\n",
              " 'girl-6': ['boy-3'],\n",
              " 'girl-7': ['boy-5']}"
            ]
          },
          "metadata": {},
          "execution_count": 101
        }
      ],
      "source": [
        "girls_proposed1"
      ]
    },
    {
      "cell_type": "code",
      "execution_count": 102,
      "metadata": {
        "colab": {
          "base_uri": "https://localhost:8080/"
        },
        "id": "oekER0qmrjXf",
        "outputId": "45c65cc9-9cb1-425d-d30f-770e691f096e"
      },
      "outputs": [
        {
          "output_type": "execute_result",
          "data": {
            "text/plain": [
              "{'girl-1': ['Yes'],\n",
              " 'girl-2': ['Yes', 'Yes', 'No'],\n",
              " 'girl-3': ['Yes', 'Yes', 'No', 'No'],\n",
              " 'girl-4': ['Yes', 'No', 'No'],\n",
              " 'girl-5': ['Yes'],\n",
              " 'girl-6': ['Yes'],\n",
              " 'girl-7': ['Yes']}"
            ]
          },
          "metadata": {},
          "execution_count": 102
        }
      ],
      "source": [
        "girls_proposed2"
      ]
    },
    {
      "cell_type": "code",
      "execution_count": 103,
      "metadata": {
        "id": "9MLout7BrjXf"
      },
      "outputs": [],
      "source": [
        "final_girl_proposed= {new_list: [] for new_list in girls_preference}"
      ]
    },
    {
      "cell_type": "code",
      "execution_count": 104,
      "metadata": {
        "id": "6oXcnloerjXg"
      },
      "outputs": [],
      "source": [
        "for i in final_girl_proposed:\n",
        "    final_girl_proposed[i]=list(zip(girls_proposed1[i],girls_proposed2[i]))"
      ]
    },
    {
      "cell_type": "code",
      "source": [
        "#The list of all mens proposing to the women and did the women accept or not "
      ],
      "metadata": {
        "id": "P3_LJXdsg5hQ"
      },
      "execution_count": null,
      "outputs": []
    },
    {
      "cell_type": "code",
      "execution_count": 105,
      "metadata": {
        "colab": {
          "base_uri": "https://localhost:8080/"
        },
        "id": "qzAx3RpWrjXg",
        "outputId": "b40d8909-de60-4b95-ee1b-378f505b9dbd"
      },
      "outputs": [
        {
          "output_type": "execute_result",
          "data": {
            "text/plain": [
              "{'girl-1': [('boy-6', 'Yes')],\n",
              " 'girl-2': [('boy-3', 'Yes'), ('boy-7', 'Yes'), ('boy-2', 'No')],\n",
              " 'girl-3': [('boy-2', 'Yes'),\n",
              "  ('boy-4', 'Yes'),\n",
              "  ('boy-6', 'No'),\n",
              "  ('boy-7', 'No')],\n",
              " 'girl-4': [('boy-1', 'Yes'), ('boy-4', 'No'), ('boy-7', 'No')],\n",
              " 'girl-5': [('boy-2', 'Yes')],\n",
              " 'girl-6': [('boy-3', 'Yes')],\n",
              " 'girl-7': [('boy-5', 'Yes')]}"
            ]
          },
          "metadata": {},
          "execution_count": 105
        }
      ],
      "source": [
        "final_girl_proposed"
      ]
    },
    {
      "cell_type": "code",
      "execution_count": 106,
      "metadata": {
        "colab": {
          "base_uri": "https://localhost:8080/"
        },
        "id": "x0-73kJL3pnf",
        "outputId": "60435e92-f78f-4739-ca80-df2c03031cd7"
      },
      "outputs": [
        {
          "output_type": "stream",
          "name": "stdout",
          "text": [
            "{'girl-1': 'boy-6', 'girl-2': 'boy-7', 'girl-3': 'boy-4', 'girl-4': 'boy-1', 'girl-5': 'boy-2', 'girl-6': 'boy-3', 'girl-7': 'boy-5'}\n"
          ]
        }
      ],
      "source": [
        "#Final Matching\n",
        "matches_men_to_women = dict(sorted(matches.items()))\n",
        "print(matches_men_to_women)"
      ]
    },
    {
      "cell_type": "code",
      "execution_count": null,
      "metadata": {
        "id": "rVmlrZitRAty"
      },
      "outputs": [],
      "source": [
        "#women proposing to men"
      ]
    },
    {
      "cell_type": "code",
      "execution_count": 107,
      "metadata": {
        "id": "iQx03UpdRpqi"
      },
      "outputs": [],
      "source": [
        "matches.clear()"
      ]
    },
    {
      "cell_type": "code",
      "execution_count": 108,
      "metadata": {
        "id": "_Y0nxvHhRArc"
      },
      "outputs": [],
      "source": [
        "# Assign everyone is unmatched before the begining of algorithem  \n",
        "boys_status.clear()\n",
        "girls_status.clear()\n",
        "for i in boys_preference:\n",
        "  boys_status[i]='Unmatched'\n",
        "for i in girls_preference:\n",
        "  girls_status[i]='Unmatched'"
      ]
    },
    {
      "cell_type": "code",
      "execution_count": 109,
      "metadata": {
        "id": "vtIvrbeeRAol"
      },
      "outputs": [],
      "source": [
        "gale_shapely1(girls_preference,boys_preference,girls_status,boys_status,matches)"
      ]
    },
    {
      "cell_type": "code",
      "execution_count": 110,
      "metadata": {
        "colab": {
          "base_uri": "https://localhost:8080/"
        },
        "id": "oaCAKBvDRAmR",
        "outputId": "d54a92c6-c5ba-4433-df8d-f27988176a5b"
      },
      "outputs": [
        {
          "output_type": "stream",
          "name": "stdout",
          "text": [
            "{'boy-1': 'girl-6', 'boy-2': 'girl-5', 'boy-3': 'girl-1', 'boy-4': 'girl-3', 'boy-5': 'girl-4', 'boy-6': 'girl-7', 'boy-7': 'girl-2'}\n"
          ]
        }
      ],
      "source": [
        "#Final Matching\n",
        "matches_women_to_men = dict(sorted(matches.items()))\n",
        "print(matches_women_to_men)"
      ]
    },
    {
      "cell_type": "code",
      "source": [
        "#The optimal preference for the manipulating girl  "
      ],
      "metadata": {
        "id": "NhhhurHlCvOh"
      },
      "execution_count": null,
      "outputs": []
    },
    {
      "cell_type": "code",
      "source": [
        "m=2\n",
        "col=[]\n",
        "arr=girls_preference['girl-1']\n",
        "for i in range(m,len(arr)):\n",
        "   a=list(arr)\n",
        "   b=a.pop(i)\n",
        "   for j in range(0,i-1):\n",
        "        new=a[:m+j]+[b]+a[m+j:]\n",
        "        if new not in col:\n",
        "         col.append(new)"
      ],
      "metadata": {
        "id": "dpgFS0PHCvMM"
      },
      "execution_count": 112,
      "outputs": []
    },
    {
      "cell_type": "code",
      "source": [
        "col"
      ],
      "metadata": {
        "colab": {
          "base_uri": "https://localhost:8080/"
        },
        "id": "z_CktKRXCvJk",
        "outputId": "959f5682-36bf-4c39-f78e-0e7be7f15db5"
      },
      "execution_count": 113,
      "outputs": [
        {
          "output_type": "execute_result",
          "data": {
            "text/plain": [
              "[['boy-1', 'boy-2', 'boy-3', 'boy-4', 'boy-5', 'boy-6', 'boy-7'],\n",
              " ['boy-1', 'boy-2', 'boy-4', 'boy-3', 'boy-5', 'boy-6', 'boy-7'],\n",
              " ['boy-1', 'boy-2', 'boy-5', 'boy-3', 'boy-4', 'boy-6', 'boy-7'],\n",
              " ['boy-1', 'boy-2', 'boy-3', 'boy-5', 'boy-4', 'boy-6', 'boy-7'],\n",
              " ['boy-1', 'boy-2', 'boy-6', 'boy-3', 'boy-4', 'boy-5', 'boy-7'],\n",
              " ['boy-1', 'boy-2', 'boy-3', 'boy-6', 'boy-4', 'boy-5', 'boy-7'],\n",
              " ['boy-1', 'boy-2', 'boy-3', 'boy-4', 'boy-6', 'boy-5', 'boy-7'],\n",
              " ['boy-1', 'boy-2', 'boy-7', 'boy-3', 'boy-4', 'boy-5', 'boy-6'],\n",
              " ['boy-1', 'boy-2', 'boy-3', 'boy-7', 'boy-4', 'boy-5', 'boy-6'],\n",
              " ['boy-1', 'boy-2', 'boy-3', 'boy-4', 'boy-7', 'boy-5', 'boy-6'],\n",
              " ['boy-1', 'boy-2', 'boy-3', 'boy-4', 'boy-5', 'boy-7', 'boy-6']]"
            ]
          },
          "metadata": {},
          "execution_count": 113
        }
      ]
    },
    {
      "cell_type": "code",
      "source": [],
      "metadata": {
        "id": "XBWpQFMgCvHN"
      },
      "execution_count": null,
      "outputs": []
    },
    {
      "cell_type": "code",
      "source": [],
      "metadata": {
        "id": "TERnNAPNCvEq"
      },
      "execution_count": null,
      "outputs": []
    }
  ],
  "metadata": {
    "colab": {
      "provenance": []
    },
    "kernelspec": {
      "display_name": "Python 3",
      "language": "python",
      "name": "python3"
    },
    "language_info": {
      "codemirror_mode": {
        "name": "ipython",
        "version": 3
      },
      "file_extension": ".py",
      "mimetype": "text/x-python",
      "name": "python",
      "nbconvert_exporter": "python",
      "pygments_lexer": "ipython3",
      "version": "3.7.7"
    }
  },
  "nbformat": 4,
  "nbformat_minor": 0
}