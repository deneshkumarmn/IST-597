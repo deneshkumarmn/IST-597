{
  "cells": [
    {
      "cell_type": "code",
      "execution_count": 115,
      "metadata": {
        "id": "x8VWzEpY3pnZ"
      },
      "outputs": [],
      "source": [
        "import numpy as np\n",
        "import random\n",
        "from random import sample"
      ]
    },
    {
      "cell_type": "code",
      "execution_count": 123,
      "metadata": {
        "id": "6EqdWEpj3pna"
      },
      "outputs": [],
      "source": [
        "def preference_list(gender,opp_gender,n):\n",
        "    opp_gender_list=[]\n",
        "    gender_list=[]\n",
        "    gender_match={}\n",
        "    for i in range(1,n+1):\n",
        "        opp_gender_list.append(opp_gender+'-'+str(i))\n",
        "        gender_list.append(gender+'-'+str(i))\n",
        "    for i in gender_list:\n",
        "        shuffle=random.sample(opp_gender_list,n)\n",
        "        gender_match[i]=shuffle\n",
        "    return gender_match\n",
        "\n"
      ]
    },
    {
      "cell_type": "code",
      "execution_count": 124,
      "metadata": {
        "id": "cBA4jrCs3pne"
      },
      "outputs": [],
      "source": [
        "def index_finder(a,arr):\n",
        "    for i in range(len(arr)):\n",
        "        if arr[i]==a:\n",
        "            return i\n",
        "        else:\n",
        "            continue"
      ]
    },
    {
      "cell_type": "code",
      "execution_count": 125,
      "metadata": {
        "id": "Q4NmAK4H3pne"
      },
      "outputs": [],
      "source": [
        "def gale_shapely(boys_preference,girls_preference,boys_status,girls_status,matches): \n",
        "  while len(matches)<len(boys_preference):\n",
        "    for i in boys_preference:\n",
        "        if boys_status[i]=='Unmatched':\n",
        "            boys_list=boys_preference[i]\n",
        "            for j in boys_list:\n",
        "                if girls_status[j]=='Unmatched':\n",
        "                    matches[j]=i\n",
        "                    boys_status[i]='Matched'\n",
        "                    girls_status[j]='Matched'\n",
        "                    break\n",
        "                else:\n",
        "                    if index_finder(matches[j],girls_preference[j])>index_finder(i,girls_preference[j]):\n",
        "                        boys_status[matches[j]]='Unmatched'\n",
        "                        boys_status[i]='Matched'\n",
        "                        matches[j]=i\n",
        "                        break\n",
        "                        \n",
        "        else:\n",
        "            continue\n",
        "                "
      ]
    },
    {
      "cell_type": "code",
      "source": [
        "#Input the value for number of men and women to generate preference \n",
        "boys_preference = preference_list('boy','girl',5)\n",
        "girls_preference = preference_list('girl','boy',5)\n",
        "matches={}\n",
        "\n"
      ],
      "metadata": {
        "id": "1fNWKyK67D6J"
      },
      "execution_count": 140,
      "outputs": []
    },
    {
      "cell_type": "code",
      "source": [
        "# Assign everyone is unmatched before the begining of algorithem  \n",
        "boys_status={}\n",
        "girls_status={}\n",
        "for i in boys_preference:\n",
        "  boys_status[i]='Unmatched'\n",
        "for i in girls_preference:\n",
        "  girls_status[i]='Unmatched'"
      ],
      "metadata": {
        "id": "2XVNZlcK930V"
      },
      "execution_count": 141,
      "outputs": []
    },
    {
      "cell_type": "code",
      "source": [
        "#Function call \n",
        "gale_shapely(boys_preference,girls_preference,boys_status,girls_status,matches)"
      ],
      "metadata": {
        "id": "c2FNuia59Rwk"
      },
      "execution_count": 142,
      "outputs": []
    },
    {
      "cell_type": "code",
      "source": [
        "print(\"Boys preference\")\n",
        "boys_preference\n"
      ],
      "metadata": {
        "colab": {
          "base_uri": "https://localhost:8080/"
        },
        "id": "C6thOJL0AOOZ",
        "outputId": "c5266c5f-6eb6-42c8-d0e2-78a3e65f96bd"
      },
      "execution_count": 149,
      "outputs": [
        {
          "output_type": "stream",
          "name": "stdout",
          "text": [
            "Boys preference\n"
          ]
        },
        {
          "output_type": "execute_result",
          "data": {
            "text/plain": [
              "{'boy-1': ['girl-1', 'girl-3', 'girl-2', 'girl-4', 'girl-5'],\n",
              " 'boy-2': ['girl-1', 'girl-2', 'girl-5', 'girl-3', 'girl-4'],\n",
              " 'boy-3': ['girl-5', 'girl-4', 'girl-2', 'girl-3', 'girl-1'],\n",
              " 'boy-4': ['girl-5', 'girl-4', 'girl-2', 'girl-3', 'girl-1'],\n",
              " 'boy-5': ['girl-5', 'girl-4', 'girl-1', 'girl-2', 'girl-3']}"
            ]
          },
          "metadata": {},
          "execution_count": 149
        }
      ]
    },
    {
      "cell_type": "code",
      "source": [
        "print(\"Girls preference\")\n",
        "girls_preference\n"
      ],
      "metadata": {
        "colab": {
          "base_uri": "https://localhost:8080/"
        },
        "id": "KoJI4YYnCS2x",
        "outputId": "3677aeef-42ad-4d7e-b92e-9cfd3a6af610"
      },
      "execution_count": 150,
      "outputs": [
        {
          "output_type": "stream",
          "name": "stdout",
          "text": [
            "Girls preference\n"
          ]
        },
        {
          "output_type": "execute_result",
          "data": {
            "text/plain": [
              "{'girl-1': ['boy-4', 'boy-5', 'boy-1', 'boy-2', 'boy-3'],\n",
              " 'girl-2': ['boy-1', 'boy-3', 'boy-2', 'boy-5', 'boy-4'],\n",
              " 'girl-3': ['boy-1', 'boy-2', 'boy-3', 'boy-5', 'boy-4'],\n",
              " 'girl-4': ['boy-4', 'boy-5', 'boy-3', 'boy-1', 'boy-2'],\n",
              " 'girl-5': ['boy-3', 'boy-5', 'boy-1', 'boy-4', 'boy-2']}"
            ]
          },
          "metadata": {},
          "execution_count": 150
        }
      ]
    },
    {
      "cell_type": "code",
      "execution_count": 143,
      "metadata": {
        "colab": {
          "base_uri": "https://localhost:8080/"
        },
        "id": "x0-73kJL3pnf",
        "outputId": "6357a15a-cc2f-4ef8-fb13-dbeb9cd28c70"
      },
      "outputs": [
        {
          "output_type": "execute_result",
          "data": {
            "text/plain": [
              "{'girl-1': 'boy-5',\n",
              " 'girl-2': 'boy-2',\n",
              " 'girl-3': 'boy-1',\n",
              " 'girl-4': 'boy-4',\n",
              " 'girl-5': 'boy-3'}"
            ]
          },
          "metadata": {},
          "execution_count": 143
        }
      ],
      "source": [
        "#Final Matching\n",
        "dict(sorted(matches.items()))"
      ]
    }
  ],
  "metadata": {
    "kernelspec": {
      "display_name": "Python 3",
      "language": "python",
      "name": "python3"
    },
    "language_info": {
      "codemirror_mode": {
        "name": "ipython",
        "version": 3
      },
      "file_extension": ".py",
      "mimetype": "text/x-python",
      "name": "python",
      "nbconvert_exporter": "python",
      "pygments_lexer": "ipython3",
      "version": "3.7.7"
    },
    "colab": {
      "provenance": [],
      "collapsed_sections": []
    }
  },
  "nbformat": 4,
  "nbformat_minor": 0
}